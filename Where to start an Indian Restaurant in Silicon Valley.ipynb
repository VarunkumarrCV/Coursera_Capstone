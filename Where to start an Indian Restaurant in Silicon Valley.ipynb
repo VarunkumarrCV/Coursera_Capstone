{
 "cells": [
  {
   "cell_type": "markdown",
   "metadata": {},
   "source": [
    "<h1 align=center><font size = 6>Where to start an Indian Restaurant in Silicon Valley, California.</font><h1>"
   ]
  },
  {
   "cell_type": "markdown",
   "metadata": {},
   "source": [
    "<h2>Introduction</h2>\n",
    "\n",
    "As every computer engineers dream land **Silicon Valley**, let's explore where to start an Indian restaurant by analyzing Indian population and Indian restaurants in the dream land. It is a region in the southern part of the San Francisco Bay Area in Northern California that serves as a global center for high technology, innovation, venture capital, and social media. Major Silicon Valley cities are multi-cultural includes San Jose, Sunnyvale, Santa Clara, Mountain View, Palo Alto and Cupertino. There are 4 million people in Silicon Valley out of which around 6% people are Immigrants from India.\n",
    "\n",
    "As we can see from the above, there are around 2,40,000 people are Indians. They are scattered all over the major cities in Silicon Valley. As they are living far away from their native there is a high chance for them to miss their authentic native food. So, they always look for the same in their locality. When we think of it by investor, they expect to prefer a place where the Indians are more and Indian restaurants is less. \n",
    "\n",
    "When we consider all these problems, we can create a map and information chart where the Indian restaurants is less with respective to Indian population and each restaurant is clustered according to its type. We are going to analyze and report the best locality where one can start an Indian restaurant."
   ]
  },
  {
   "cell_type": "markdown",
   "metadata": {},
   "source": [
    "<h2>Table of Contents</h2>\n",
    "\n",
    "1. Restaurant data preparation\n",
    "2. Population data preparation\n",
    "3. Analyzing and Merging - Restaurant and Population data\n",
    "4. Exploring and Clustering the Indian restaurants in Silicon Valley"
   ]
  },
  {
   "cell_type": "markdown",
   "metadata": {},
   "source": [
    "Before we get the data and start exploring it, let's download all the dependencies that we will need."
   ]
  },
  {
   "cell_type": "code",
   "execution_count": 241,
   "metadata": {},
   "outputs": [
    {
     "name": "stdout",
     "output_type": "stream",
     "text": [
      "Collecting package metadata (current_repodata.json): done\n",
      "Solving environment: done\n",
      "\n",
      "# All requested packages already installed.\n",
      "\n",
      "Imported Successfully\n"
     ]
    }
   ],
   "source": [
    "import pandas as pd\n",
    "import numpy as np\n",
    "import requests\n",
    "import matplotlib.cm as cm\n",
    "import matplotlib.colors as colors\n",
    "import matplotlib.pyplot as plt\n",
    "\n",
    "from pandas.io.json import json_normalize\n",
    "from sklearn.cluster import KMeans\n",
    "from sklearn import preprocessing\n",
    "\n",
    "!conda install -c conda-forge geopy --yes\n",
    "from geopy.geocoders import Nominatim\n",
    "\n",
    "#!conda install -c conda-forge folium=0.5.0 --yes\n",
    "import folium\n",
    "\n",
    "print('Imported Successfully')"
   ]
  },
  {
   "cell_type": "code",
   "execution_count": 242,
   "metadata": {},
   "outputs": [
    {
     "name": "stdout",
     "output_type": "stream",
     "text": [
      "Requirement already satisfied: beautifulsoup4 in /home/jupyterlab/conda/envs/python/lib/python3.6/site-packages (4.9.1)\n",
      "Requirement already satisfied: soupsieve>1.2 in /home/jupyterlab/conda/envs/python/lib/python3.6/site-packages (from beautifulsoup4) (2.0.1)\n",
      "Note: you may need to restart the kernel to use updated packages.\n"
     ]
    }
   ],
   "source": [
    "pip install beautifulsoup4"
   ]
  },
  {
   "cell_type": "code",
   "execution_count": 243,
   "metadata": {},
   "outputs": [],
   "source": [
    "from bs4 import BeautifulSoup"
   ]
  },
  {
   "cell_type": "code",
   "execution_count": 244,
   "metadata": {},
   "outputs": [
    {
     "name": "stdout",
     "output_type": "stream",
     "text": [
      "Requirement already satisfied: lxml in /home/jupyterlab/conda/envs/python/lib/python3.6/site-packages (4.5.1)\n",
      "Note: you may need to restart the kernel to use updated packages.\n"
     ]
    }
   ],
   "source": [
    "pip install lxml"
   ]
  },
  {
   "cell_type": "markdown",
   "metadata": {},
   "source": [
    "<h2>1. Restaurant data preparation</h2>"
   ]
  },
  {
   "cell_type": "markdown",
   "metadata": {},
   "source": [
    "We are going to use the **geopy** library to get the latitude and longitude values of Silicon Valley."
   ]
  },
  {
   "cell_type": "code",
   "execution_count": 245,
   "metadata": {},
   "outputs": [
    {
     "name": "stdout",
     "output_type": "stream",
     "text": [
      "The geograpical coordinate of Silicon Valley are 37.4429964, -122.1545229.\n"
     ]
    }
   ],
   "source": [
    "address = 'Silicon Valley'\n",
    "\n",
    "geolocator = Nominatim(user_agent=\"ny_explorer\")\n",
    "location = geolocator.geocode(address)\n",
    "latitude = location.latitude\n",
    "longitude = location.longitude\n",
    "print('The geograpical coordinate of Silicon Valley are {}, {}.'.format(latitude, longitude))"
   ]
  },
  {
   "cell_type": "markdown",
   "metadata": {},
   "source": [
    "We are framing the URL to retrieve Indian restaurants in Silicon Valley using **Foursquare API**. Dataset which we retrieved will be in JSON format and then we have to convert the same in to pandas Dataframe"
   ]
  },
  {
   "cell_type": "code",
   "execution_count": 246,
   "metadata": {},
   "outputs": [
    {
     "name": "stderr",
     "output_type": "stream",
     "text": [
      "/home/jupyterlab/conda/envs/python/lib/python3.6/site-packages/ipykernel_launcher.py:11: FutureWarning: pandas.io.json.json_normalize is deprecated, use pandas.json_normalize instead\n",
      "  # This is added back by InteractiveShellApp.init_path()\n"
     ]
    },
    {
     "data": {
      "text/html": [
       "<div>\n",
       "<style scoped>\n",
       "    .dataframe tbody tr th:only-of-type {\n",
       "        vertical-align: middle;\n",
       "    }\n",
       "\n",
       "    .dataframe tbody tr th {\n",
       "        vertical-align: top;\n",
       "    }\n",
       "\n",
       "    .dataframe thead th {\n",
       "        text-align: right;\n",
       "    }\n",
       "</style>\n",
       "<table border=\"1\" class=\"dataframe\">\n",
       "  <thead>\n",
       "    <tr style=\"text-align: right;\">\n",
       "      <th></th>\n",
       "      <th>id</th>\n",
       "      <th>name</th>\n",
       "      <th>categories</th>\n",
       "      <th>referralId</th>\n",
       "      <th>hasPerk</th>\n",
       "      <th>location.address</th>\n",
       "      <th>location.lat</th>\n",
       "      <th>location.lng</th>\n",
       "      <th>location.labeledLatLngs</th>\n",
       "      <th>location.distance</th>\n",
       "      <th>...</th>\n",
       "      <th>location.crossStreet</th>\n",
       "      <th>location.postalCode</th>\n",
       "      <th>delivery.id</th>\n",
       "      <th>delivery.url</th>\n",
       "      <th>delivery.provider.name</th>\n",
       "      <th>delivery.provider.icon.prefix</th>\n",
       "      <th>delivery.provider.icon.sizes</th>\n",
       "      <th>delivery.provider.icon.name</th>\n",
       "      <th>location.neighborhood</th>\n",
       "      <th>venuePage.id</th>\n",
       "    </tr>\n",
       "  </thead>\n",
       "  <tbody>\n",
       "    <tr>\n",
       "      <th>0</th>\n",
       "      <td>5e4df93bac54950008557335</td>\n",
       "      <td>Ettan</td>\n",
       "      <td>[{'id': '4bf58dd8d48988d10f941735', 'name': 'I...</td>\n",
       "      <td>v-1590932692</td>\n",
       "      <td>False</td>\n",
       "      <td>518 Bryant Street</td>\n",
       "      <td>37.445351</td>\n",
       "      <td>-122.161423</td>\n",
       "      <td>[{'label': 'display', 'lat': 37.44535122264185...</td>\n",
       "      <td>663</td>\n",
       "      <td>...</td>\n",
       "      <td>NaN</td>\n",
       "      <td>NaN</td>\n",
       "      <td>NaN</td>\n",
       "      <td>NaN</td>\n",
       "      <td>NaN</td>\n",
       "      <td>NaN</td>\n",
       "      <td>NaN</td>\n",
       "      <td>NaN</td>\n",
       "      <td>NaN</td>\n",
       "      <td>NaN</td>\n",
       "    </tr>\n",
       "    <tr>\n",
       "      <th>1</th>\n",
       "      <td>5d43ac64da59890008a83c6b</td>\n",
       "      <td>Curry Pizza House - Palo Alto</td>\n",
       "      <td>[{'id': '4bf58dd8d48988d1ca941735', 'name': 'P...</td>\n",
       "      <td>v-1590932692</td>\n",
       "      <td>False</td>\n",
       "      <td>320 University Ave</td>\n",
       "      <td>37.446183</td>\n",
       "      <td>-122.161262</td>\n",
       "      <td>[{'label': 'display', 'lat': 37.446183, 'lng':...</td>\n",
       "      <td>693</td>\n",
       "      <td>...</td>\n",
       "      <td>Bryant St</td>\n",
       "      <td>94301</td>\n",
       "      <td>1285810</td>\n",
       "      <td>https://www.grubhub.com/restaurant/curry-pizza...</td>\n",
       "      <td>grubhub</td>\n",
       "      <td>https://fastly.4sqi.net/img/general/cap/</td>\n",
       "      <td>[40, 50]</td>\n",
       "      <td>/delivery_provider_grubhub_20180129.png</td>\n",
       "      <td>NaN</td>\n",
       "      <td>NaN</td>\n",
       "    </tr>\n",
       "    <tr>\n",
       "      <th>2</th>\n",
       "      <td>5bd4d3e68afbe0002d879721</td>\n",
       "      <td>Kasa Indian Eatery</td>\n",
       "      <td>[{'id': '4bf58dd8d48988d10f941735', 'name': 'I...</td>\n",
       "      <td>v-1590932692</td>\n",
       "      <td>False</td>\n",
       "      <td>2086 Broadway St</td>\n",
       "      <td>37.486640</td>\n",
       "      <td>-122.227670</td>\n",
       "      <td>[{'label': 'display', 'lat': 37.48664, 'lng': ...</td>\n",
       "      <td>8085</td>\n",
       "      <td>...</td>\n",
       "      <td>Jefferson</td>\n",
       "      <td>94063</td>\n",
       "      <td>967625</td>\n",
       "      <td>https://www.grubhub.com/restaurant/kasa-indian...</td>\n",
       "      <td>grubhub</td>\n",
       "      <td>https://fastly.4sqi.net/img/general/cap/</td>\n",
       "      <td>[40, 50]</td>\n",
       "      <td>/delivery_provider_grubhub_20180129.png</td>\n",
       "      <td>NaN</td>\n",
       "      <td>NaN</td>\n",
       "    </tr>\n",
       "    <tr>\n",
       "      <th>3</th>\n",
       "      <td>57314090498e77a6f30bc379</td>\n",
       "      <td>Naan &amp; Curry</td>\n",
       "      <td>[{'id': '54135bf5e4b08f3d2429dfdd', 'name': 'N...</td>\n",
       "      <td>v-1590932692</td>\n",
       "      <td>False</td>\n",
       "      <td>NaN</td>\n",
       "      <td>37.321388</td>\n",
       "      <td>-121.971973</td>\n",
       "      <td>[{'label': 'display', 'lat': 37.32138809722174...</td>\n",
       "      <td>21071</td>\n",
       "      <td>...</td>\n",
       "      <td>NaN</td>\n",
       "      <td>NaN</td>\n",
       "      <td>332609</td>\n",
       "      <td>https://www.grubhub.com/restaurant/naan--curry...</td>\n",
       "      <td>grubhub</td>\n",
       "      <td>https://fastly.4sqi.net/img/general/cap/</td>\n",
       "      <td>[40, 50]</td>\n",
       "      <td>/delivery_provider_grubhub_20180129.png</td>\n",
       "      <td>NaN</td>\n",
       "      <td>NaN</td>\n",
       "    </tr>\n",
       "    <tr>\n",
       "      <th>4</th>\n",
       "      <td>5eb8d907e6959a0008e83033</td>\n",
       "      <td>Puranpoli</td>\n",
       "      <td>[{'id': '4bf58dd8d48988d10f941735', 'name': 'I...</td>\n",
       "      <td>v-1590932692</td>\n",
       "      <td>False</td>\n",
       "      <td>3074b Scott Blvd</td>\n",
       "      <td>37.376860</td>\n",
       "      <td>-121.961360</td>\n",
       "      <td>[{'label': 'display', 'lat': 37.37686, 'lng': ...</td>\n",
       "      <td>18598</td>\n",
       "      <td>...</td>\n",
       "      <td>NaN</td>\n",
       "      <td>95054</td>\n",
       "      <td>2040530</td>\n",
       "      <td>https://www.grubhub.com/restaurant/puranpoli-3...</td>\n",
       "      <td>grubhub</td>\n",
       "      <td>https://fastly.4sqi.net/img/general/cap/</td>\n",
       "      <td>[40, 50]</td>\n",
       "      <td>/delivery_provider_grubhub_20180129.png</td>\n",
       "      <td>NaN</td>\n",
       "      <td>NaN</td>\n",
       "    </tr>\n",
       "  </tbody>\n",
       "</table>\n",
       "<p>5 rows × 25 columns</p>\n",
       "</div>"
      ],
      "text/plain": [
       "                         id                           name  \\\n",
       "0  5e4df93bac54950008557335                          Ettan   \n",
       "1  5d43ac64da59890008a83c6b  Curry Pizza House - Palo Alto   \n",
       "2  5bd4d3e68afbe0002d879721             Kasa Indian Eatery   \n",
       "3  57314090498e77a6f30bc379                   Naan & Curry   \n",
       "4  5eb8d907e6959a0008e83033                      Puranpoli   \n",
       "\n",
       "                                          categories    referralId  hasPerk  \\\n",
       "0  [{'id': '4bf58dd8d48988d10f941735', 'name': 'I...  v-1590932692    False   \n",
       "1  [{'id': '4bf58dd8d48988d1ca941735', 'name': 'P...  v-1590932692    False   \n",
       "2  [{'id': '4bf58dd8d48988d10f941735', 'name': 'I...  v-1590932692    False   \n",
       "3  [{'id': '54135bf5e4b08f3d2429dfdd', 'name': 'N...  v-1590932692    False   \n",
       "4  [{'id': '4bf58dd8d48988d10f941735', 'name': 'I...  v-1590932692    False   \n",
       "\n",
       "     location.address  location.lat  location.lng  \\\n",
       "0   518 Bryant Street     37.445351   -122.161423   \n",
       "1  320 University Ave     37.446183   -122.161262   \n",
       "2    2086 Broadway St     37.486640   -122.227670   \n",
       "3                 NaN     37.321388   -121.971973   \n",
       "4    3074b Scott Blvd     37.376860   -121.961360   \n",
       "\n",
       "                             location.labeledLatLngs  location.distance  ...  \\\n",
       "0  [{'label': 'display', 'lat': 37.44535122264185...                663  ...   \n",
       "1  [{'label': 'display', 'lat': 37.446183, 'lng':...                693  ...   \n",
       "2  [{'label': 'display', 'lat': 37.48664, 'lng': ...               8085  ...   \n",
       "3  [{'label': 'display', 'lat': 37.32138809722174...              21071  ...   \n",
       "4  [{'label': 'display', 'lat': 37.37686, 'lng': ...              18598  ...   \n",
       "\n",
       "  location.crossStreet location.postalCode delivery.id  \\\n",
       "0                  NaN                 NaN         NaN   \n",
       "1            Bryant St               94301     1285810   \n",
       "2            Jefferson               94063      967625   \n",
       "3                  NaN                 NaN      332609   \n",
       "4                  NaN               95054     2040530   \n",
       "\n",
       "                                        delivery.url delivery.provider.name  \\\n",
       "0                                                NaN                    NaN   \n",
       "1  https://www.grubhub.com/restaurant/curry-pizza...                grubhub   \n",
       "2  https://www.grubhub.com/restaurant/kasa-indian...                grubhub   \n",
       "3  https://www.grubhub.com/restaurant/naan--curry...                grubhub   \n",
       "4  https://www.grubhub.com/restaurant/puranpoli-3...                grubhub   \n",
       "\n",
       "              delivery.provider.icon.prefix delivery.provider.icon.sizes  \\\n",
       "0                                       NaN                          NaN   \n",
       "1  https://fastly.4sqi.net/img/general/cap/                     [40, 50]   \n",
       "2  https://fastly.4sqi.net/img/general/cap/                     [40, 50]   \n",
       "3  https://fastly.4sqi.net/img/general/cap/                     [40, 50]   \n",
       "4  https://fastly.4sqi.net/img/general/cap/                     [40, 50]   \n",
       "\n",
       "               delivery.provider.icon.name location.neighborhood venuePage.id  \n",
       "0                                      NaN                   NaN          NaN  \n",
       "1  /delivery_provider_grubhub_20180129.png                   NaN          NaN  \n",
       "2  /delivery_provider_grubhub_20180129.png                   NaN          NaN  \n",
       "3  /delivery_provider_grubhub_20180129.png                   NaN          NaN  \n",
       "4  /delivery_provider_grubhub_20180129.png                   NaN          NaN  \n",
       "\n",
       "[5 rows x 25 columns]"
      ]
     },
     "execution_count": 246,
     "metadata": {},
     "output_type": "execute_result"
    }
   ],
   "source": [
    "CLIENT_ID = ''\n",
    "CLIENT_SECRET = ''\n",
    "VERSION = '20180604'\n",
    "LIMIT = 500\n",
    "\n",
    "url = 'https://api.foursquare.com/v2/venues/search?categoryId=4bf58dd8d48988d10f941735&client_id={}&client_secret={}&ll={},{}&v={}&limit={}'.format(CLIENT_ID, CLIENT_SECRET, latitude, longitude, VERSION, LIMIT)\n",
    "\n",
    "results = requests.get(url).json()\n",
    "\n",
    "restaurants = results['response']['venues']\n",
    "df_restaurants = json_normalize(restaurants)\n",
    "df_restaurants.head()"
   ]
  },
  {
   "cell_type": "markdown",
   "metadata": {},
   "source": [
    "The retrieved dataset has many fields, we are goinf to filter the above dataframe based on our requirements using the below function"
   ]
  },
  {
   "cell_type": "code",
   "execution_count": 247,
   "metadata": {},
   "outputs": [],
   "source": [
    "filtered_columns = ['name', 'categories'] + [col for col in df_restaurants.columns if col.startswith('location.')] + ['id']\n",
    "df_restaurants_filtered = df_restaurants.loc[:, filtered_columns]\n",
    "\n",
    "def get_category_type(row):\n",
    "    try:\n",
    "        categories_list = row['categories']\n",
    "    except:\n",
    "        categories_list = row['venue.categories']\n",
    "        \n",
    "    if len(categories_list) == 0:\n",
    "        return None\n",
    "    else:\n",
    "        return categories_list[0]['name']\n",
    "\n",
    "df_restaurants_filtered['categories'] = df_restaurants_filtered.apply(get_category_type, axis=1)\n",
    "\n",
    "df_restaurants_filtered.columns = [column.split('.')[-1] for column in df_restaurants_filtered.columns]"
   ]
  },
  {
   "cell_type": "markdown",
   "metadata": {},
   "source": [
    "The Indian restaurants are filtered from the master dataset as below"
   ]
  },
  {
   "cell_type": "code",
   "execution_count": 248,
   "metadata": {},
   "outputs": [
    {
     "data": {
      "text/html": [
       "<div>\n",
       "<style scoped>\n",
       "    .dataframe tbody tr th:only-of-type {\n",
       "        vertical-align: middle;\n",
       "    }\n",
       "\n",
       "    .dataframe tbody tr th {\n",
       "        vertical-align: top;\n",
       "    }\n",
       "\n",
       "    .dataframe thead th {\n",
       "        text-align: right;\n",
       "    }\n",
       "</style>\n",
       "<table border=\"1\" class=\"dataframe\">\n",
       "  <thead>\n",
       "    <tr style=\"text-align: right;\">\n",
       "      <th></th>\n",
       "      <th>name</th>\n",
       "      <th>categories</th>\n",
       "      <th>cities</th>\n",
       "      <th>lat</th>\n",
       "      <th>lng</th>\n",
       "    </tr>\n",
       "  </thead>\n",
       "  <tbody>\n",
       "    <tr>\n",
       "      <th>0</th>\n",
       "      <td>Ettan</td>\n",
       "      <td>Indian Restaurant</td>\n",
       "      <td>Palo Alto</td>\n",
       "      <td>37.445351</td>\n",
       "      <td>-122.161423</td>\n",
       "    </tr>\n",
       "    <tr>\n",
       "      <th>1</th>\n",
       "      <td>Kasa Indian Eatery</td>\n",
       "      <td>Indian Restaurant</td>\n",
       "      <td>Redwood City</td>\n",
       "      <td>37.486640</td>\n",
       "      <td>-122.227670</td>\n",
       "    </tr>\n",
       "    <tr>\n",
       "      <th>2</th>\n",
       "      <td>Naan &amp; Curry</td>\n",
       "      <td>North Indian Restaurant</td>\n",
       "      <td>San Jose</td>\n",
       "      <td>37.321388</td>\n",
       "      <td>-121.971973</td>\n",
       "    </tr>\n",
       "    <tr>\n",
       "      <th>3</th>\n",
       "      <td>Puranpoli</td>\n",
       "      <td>Indian Restaurant</td>\n",
       "      <td>Santa Clara</td>\n",
       "      <td>37.376860</td>\n",
       "      <td>-121.961360</td>\n",
       "    </tr>\n",
       "    <tr>\n",
       "      <th>4</th>\n",
       "      <td>Dosa Hut</td>\n",
       "      <td>Indian Restaurant</td>\n",
       "      <td>Fremont</td>\n",
       "      <td>37.544289</td>\n",
       "      <td>-121.975863</td>\n",
       "    </tr>\n",
       "  </tbody>\n",
       "</table>\n",
       "</div>"
      ],
      "text/plain": [
       "                 name               categories        cities        lat  \\\n",
       "0               Ettan        Indian Restaurant     Palo Alto  37.445351   \n",
       "1  Kasa Indian Eatery        Indian Restaurant  Redwood City  37.486640   \n",
       "2        Naan & Curry  North Indian Restaurant      San Jose  37.321388   \n",
       "3           Puranpoli        Indian Restaurant   Santa Clara  37.376860   \n",
       "4            Dosa Hut        Indian Restaurant       Fremont  37.544289   \n",
       "\n",
       "          lng  \n",
       "0 -122.161423  \n",
       "1 -122.227670  \n",
       "2 -121.971973  \n",
       "3 -121.961360  \n",
       "4 -121.975863  "
      ]
     },
     "execution_count": 248,
     "metadata": {},
     "output_type": "execute_result"
    }
   ],
   "source": [
    "df_restaurants_filtered = df_restaurants_filtered[['name','categories','city','lat','lng']]\n",
    "df_restaurants_filtered = df_restaurants_filtered.rename(columns={'city':'cities'})\n",
    "\n",
    "df_indian_restaurants = df_restaurants_filtered[df_restaurants_filtered.categories.str.contains('Indian')]\n",
    "df_indian_restaurants = df_indian_restaurants.reset_index(drop=True)\n",
    "df_indian_restaurants.head()"
   ]
  },
  {
   "cell_type": "markdown",
   "metadata": {},
   "source": [
    "Let's visualize the Indian restaurants in Map"
   ]
  },
  {
   "cell_type": "code",
   "execution_count": 249,
   "metadata": {},
   "outputs": [
    {
     "data": {
      "text/html": [
       "<div style=\"width:100%;\"><div style=\"position:relative;width:100%;height:0;padding-bottom:60%;\"><span style=\"color:#565656\">Make this Notebook Trusted to load map: File -> Trust Notebook</span><iframe src=\"about:blank\" style=\"position:absolute;width:100%;height:100%;left:0;top:0;border:none !important;\" data-html=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 onload=\"this.contentDocument.open();this.contentDocument.write(atob(this.getAttribute('data-html')));this.contentDocument.close();\" allowfullscreen webkitallowfullscreen mozallowfullscreen></iframe></div></div>"
      ],
      "text/plain": [
       "<folium.folium.Map at 0x7fa2bbc3d780>"
      ]
     },
     "execution_count": 249,
     "metadata": {},
     "output_type": "execute_result"
    }
   ],
   "source": [
    "map_sv = folium.Map(location=[latitude, longitude], zoom_start=10)\n",
    "\n",
    "for lat, lng, label in zip(df_indian_restaurants['lat'], df_indian_restaurants['lng'],df_indian_restaurants['name'] + ' - ' + df_indian_restaurants['categories']):\n",
    "    label = folium.Popup(label, parse_html=True)\n",
    "    folium.CircleMarker(\n",
    "        [lat, lng],\n",
    "        radius=5,\n",
    "        popup=label,\n",
    "        color='blue',\n",
    "        fill=True,\n",
    "        fill_color='#3186cc',\n",
    "        fill_opacity=0.7,\n",
    "        parse_html=False).add_to(map_sv)  \n",
    "    \n",
    "map_sv"
   ]
  },
  {
   "cell_type": "markdown",
   "metadata": {},
   "source": [
    "We are going to filter the above dataset with the following cities **San Jose, Sunnyvale, Santa Clara, Mountain View, Palo Alto, Cupertino**. Hereafter through out the process will work on these selected cities only."
   ]
  },
  {
   "cell_type": "code",
   "execution_count": 250,
   "metadata": {},
   "outputs": [],
   "source": [
    "df_restaurant_city = pd.DataFrame(df_indian_restaurants.groupby('cities')['cities'].count())\n",
    "df_restaurant_city = df_restaurant_city.rename(columns={'cities':'count'})\n",
    "\n",
    "sv_cities = ['San Jose','Sunnyvale','Santa Clara','Mountain View','Palo Alto','Cupertino']\n",
    "df_restaurant_city = df_restaurant_city.loc[sv_cities]"
   ]
  },
  {
   "cell_type": "markdown",
   "metadata": {},
   "source": [
    "We are going to count how many number of restaurants are there in respective cities"
   ]
  },
  {
   "cell_type": "code",
   "execution_count": 251,
   "metadata": {},
   "outputs": [
    {
     "data": {
      "text/html": [
       "<div>\n",
       "<style scoped>\n",
       "    .dataframe tbody tr th:only-of-type {\n",
       "        vertical-align: middle;\n",
       "    }\n",
       "\n",
       "    .dataframe tbody tr th {\n",
       "        vertical-align: top;\n",
       "    }\n",
       "\n",
       "    .dataframe thead th {\n",
       "        text-align: right;\n",
       "    }\n",
       "</style>\n",
       "<table border=\"1\" class=\"dataframe\">\n",
       "  <thead>\n",
       "    <tr style=\"text-align: right;\">\n",
       "      <th></th>\n",
       "      <th>cities</th>\n",
       "      <th>count</th>\n",
       "    </tr>\n",
       "  </thead>\n",
       "  <tbody>\n",
       "    <tr>\n",
       "      <th>0</th>\n",
       "      <td>Sunnyvale</td>\n",
       "      <td>10</td>\n",
       "    </tr>\n",
       "    <tr>\n",
       "      <th>1</th>\n",
       "      <td>San Jose</td>\n",
       "      <td>6</td>\n",
       "    </tr>\n",
       "    <tr>\n",
       "      <th>2</th>\n",
       "      <td>Santa Clara</td>\n",
       "      <td>5</td>\n",
       "    </tr>\n",
       "    <tr>\n",
       "      <th>3</th>\n",
       "      <td>Mountain View</td>\n",
       "      <td>2</td>\n",
       "    </tr>\n",
       "    <tr>\n",
       "      <th>4</th>\n",
       "      <td>Palo Alto</td>\n",
       "      <td>2</td>\n",
       "    </tr>\n",
       "    <tr>\n",
       "      <th>5</th>\n",
       "      <td>Cupertino</td>\n",
       "      <td>1</td>\n",
       "    </tr>\n",
       "  </tbody>\n",
       "</table>\n",
       "</div>"
      ],
      "text/plain": [
       "          cities  count\n",
       "0      Sunnyvale     10\n",
       "1       San Jose      6\n",
       "2    Santa Clara      5\n",
       "3  Mountain View      2\n",
       "4      Palo Alto      2\n",
       "5      Cupertino      1"
      ]
     },
     "execution_count": 251,
     "metadata": {},
     "output_type": "execute_result"
    }
   ],
   "source": [
    "df_restaurant_city = df_restaurant_city.sort_values('count', ascending=False)\n",
    "df_restaurant_city = df_restaurant_city.reset_index()\n",
    "df_restaurant_city"
   ]
  },
  {
   "cell_type": "markdown",
   "metadata": {},
   "source": [
    "Let's create a bar chart to explore the above dataset"
   ]
  },
  {
   "cell_type": "code",
   "execution_count": 252,
   "metadata": {},
   "outputs": [
    {
     "data": {
      "image/png": "[encoded data removed]",
      "text/plain": [
       "<Figure size 720x360 with 1 Axes>"
      ]
     },
     "metadata": {
      "needs_background": "light"
     },
     "output_type": "display_data"
    }
   ],
   "source": [
    "X = df_restaurant_city['cities']\n",
    "Y = df_restaurant_city['count']\n",
    "\n",
    "fig, ax = plt.subplots(figsize=(10, 5))\n",
    "rects = ax.bar(X, Y, label=None, width=0.5)\n",
    "\n",
    "ax.set_xlabel('Silicon Valley Cities',fontsize=15)\n",
    "ax.set_ylabel('Number of restaurants',fontsize=15)\n",
    "ax.set_title('Indian restaurants by Cities in Silicon Valley',fontsize=15)\n",
    "\n",
    "def autolabel(rects):\n",
    "    for rect in rects:\n",
    "        height = rect.get_height()\n",
    "        ax.annotate('{}'.format(height),\n",
    "                    xy=(rect.get_x() + rect.get_width() / 2, height),\n",
    "                    xytext=(0, 1),\n",
    "                    textcoords=\"offset points\",\n",
    "                    ha='center', va='bottom')\n",
    "\n",
    "autolabel(rects)\n",
    "fig.tight_layout()\n",
    "plt.show()"
   ]
  },
  {
   "cell_type": "markdown",
   "metadata": {},
   "source": [
    "<h2>2. Population data preparation</h2>\n",
    "\n",
    "By scraping the following page, http://zipatlas.com/us/ca/city-comparison/percentage-indian-population.htm, we will get a table data which has the information of indian population in california. Next, we have to transform the data into a pandas dataframe "
   ]
  },
  {
   "cell_type": "code",
   "execution_count": 253,
   "metadata": {},
   "outputs": [
    {
     "data": {
      "text/html": [
       "<div>\n",
       "<style scoped>\n",
       "    .dataframe tbody tr th:only-of-type {\n",
       "        vertical-align: middle;\n",
       "    }\n",
       "\n",
       "    .dataframe tbody tr th {\n",
       "        vertical-align: top;\n",
       "    }\n",
       "\n",
       "    .dataframe thead th {\n",
       "        text-align: right;\n",
       "    }\n",
       "</style>\n",
       "<table border=\"1\" class=\"dataframe\">\n",
       "  <thead>\n",
       "    <tr style=\"text-align: right;\">\n",
       "      <th></th>\n",
       "      <th>#</th>\n",
       "      <th>Location (# Zip Codes)</th>\n",
       "      <th>City Report</th>\n",
       "      <th>Population</th>\n",
       "      <th>% Indians (Asian)</th>\n",
       "      <th>National Rank</th>\n",
       "    </tr>\n",
       "  </thead>\n",
       "  <tbody>\n",
       "    <tr>\n",
       "      <th>1</th>\n",
       "      <td>1.</td>\n",
       "      <td>Mount Hamilton, California (1)</td>\n",
       "      <td>NaN</td>\n",
       "      <td>35</td>\n",
       "      <td>11.42 %</td>\n",
       "      <td>#12</td>\n",
       "    </tr>\n",
       "    <tr>\n",
       "      <th>2</th>\n",
       "      <td>2.</td>\n",
       "      <td>Livingston, California (1)</td>\n",
       "      <td>NaN</td>\n",
       "      <td>12666</td>\n",
       "      <td>10.31 %</td>\n",
       "      <td>#16</td>\n",
       "    </tr>\n",
       "    <tr>\n",
       "      <th>3</th>\n",
       "      <td>3.</td>\n",
       "      <td>Fremont, California (4)</td>\n",
       "      <td>% Indians (Asian) in Fremont, CA</td>\n",
       "      <td>203417</td>\n",
       "      <td>10.15 %</td>\n",
       "      <td>#17</td>\n",
       "    </tr>\n",
       "    <tr>\n",
       "      <th>4</th>\n",
       "      <td>4.</td>\n",
       "      <td>Yuba City, California (2)</td>\n",
       "      <td>% Indians (Asian) in Yuba City, CA</td>\n",
       "      <td>62741</td>\n",
       "      <td>10.08 %</td>\n",
       "      <td>#19</td>\n",
       "    </tr>\n",
       "    <tr>\n",
       "      <th>5</th>\n",
       "      <td>5.</td>\n",
       "      <td>Sunnyvale, California (3)</td>\n",
       "      <td>% Indians (Asian) in Sunnyvale, CA</td>\n",
       "      <td>131018</td>\n",
       "      <td>10.07 %</td>\n",
       "      <td>#20</td>\n",
       "    </tr>\n",
       "  </tbody>\n",
       "</table>\n",
       "</div>"
      ],
      "text/plain": [
       "0   #          Location (# Zip Codes)                         City Report  \\\n",
       "1  1.  Mount Hamilton, California (1)                                 NaN   \n",
       "2  2.      Livingston, California (1)                                 NaN   \n",
       "3  3.         Fremont, California (4)    % Indians (Asian) in Fremont, CA   \n",
       "4  4.       Yuba City, California (2)  % Indians (Asian) in Yuba City, CA   \n",
       "5  5.       Sunnyvale, California (3)  % Indians (Asian) in Sunnyvale, CA   \n",
       "\n",
       "0 Population % Indians (Asian) National Rank  \n",
       "1         35           11.42 %           #12  \n",
       "2      12666           10.31 %           #16  \n",
       "3     203417           10.15 %           #17  \n",
       "4      62741           10.08 %           #19  \n",
       "5     131018           10.07 %           #20  "
      ]
     },
     "execution_count": 253,
     "metadata": {},
     "output_type": "execute_result"
    }
   ],
   "source": [
    "url_population='http://zipatlas.com/us/ca/city-comparison/percentage-indian-population.htm'\n",
    "response = requests.get(url_population)\n",
    "\n",
    "soup = BeautifulSoup(response.text,'html.parser')\n",
    "\n",
    "california_population_table = soup.find('table', attrs={'rules':'all','frame':'box'})\n",
    "\n",
    "lst = pd.read_html(str(california_population_table))\n",
    "\n",
    "df_california_population = pd.DataFrame(lst[0])\n",
    "new_header = df_california_population.iloc[0]\n",
    "df_california_population = df_california_population[1:]\n",
    "df_california_population.columns = new_header\n",
    "\n",
    "df_california_population.head()"
   ]
  },
  {
   "cell_type": "markdown",
   "metadata": {},
   "source": [
    "Filter the above data by removing unwanted column."
   ]
  },
  {
   "cell_type": "code",
   "execution_count": 254,
   "metadata": {},
   "outputs": [
    {
     "data": {
      "text/html": [
       "<div>\n",
       "<style scoped>\n",
       "    .dataframe tbody tr th:only-of-type {\n",
       "        vertical-align: middle;\n",
       "    }\n",
       "\n",
       "    .dataframe tbody tr th {\n",
       "        vertical-align: top;\n",
       "    }\n",
       "\n",
       "    .dataframe thead th {\n",
       "        text-align: right;\n",
       "    }\n",
       "</style>\n",
       "<table border=\"1\" class=\"dataframe\">\n",
       "  <thead>\n",
       "    <tr style=\"text-align: right;\">\n",
       "      <th></th>\n",
       "      <th>cities</th>\n",
       "      <th>total_population</th>\n",
       "      <th>indians_percentage</th>\n",
       "      <th>indians_population</th>\n",
       "    </tr>\n",
       "  </thead>\n",
       "  <tbody>\n",
       "    <tr>\n",
       "      <th>0</th>\n",
       "      <td>San Jose</td>\n",
       "      <td>930193.0</td>\n",
       "      <td>3.0</td>\n",
       "      <td>27906.0</td>\n",
       "    </tr>\n",
       "    <tr>\n",
       "      <th>1</th>\n",
       "      <td>Sunnyvale</td>\n",
       "      <td>131018.0</td>\n",
       "      <td>10.0</td>\n",
       "      <td>13102.0</td>\n",
       "    </tr>\n",
       "    <tr>\n",
       "      <th>2</th>\n",
       "      <td>Santa Clara</td>\n",
       "      <td>102320.0</td>\n",
       "      <td>9.0</td>\n",
       "      <td>9209.0</td>\n",
       "    </tr>\n",
       "    <tr>\n",
       "      <th>3</th>\n",
       "      <td>Mountain View</td>\n",
       "      <td>73424.0</td>\n",
       "      <td>4.0</td>\n",
       "      <td>2937.0</td>\n",
       "    </tr>\n",
       "    <tr>\n",
       "      <th>4</th>\n",
       "      <td>Palo Alto</td>\n",
       "      <td>87857.0</td>\n",
       "      <td>2.0</td>\n",
       "      <td>1757.0</td>\n",
       "    </tr>\n",
       "  </tbody>\n",
       "</table>\n",
       "</div>"
      ],
      "text/plain": [
       "0         cities  total_population  indians_percentage  indians_population\n",
       "0       San Jose          930193.0                 3.0             27906.0\n",
       "1      Sunnyvale          131018.0                10.0             13102.0\n",
       "2    Santa Clara          102320.0                 9.0              9209.0\n",
       "3  Mountain View           73424.0                 4.0              2937.0\n",
       "4      Palo Alto           87857.0                 2.0              1757.0"
      ]
     },
     "execution_count": 254,
     "metadata": {},
     "output_type": "execute_result"
    }
   ],
   "source": [
    "df_california_population = df_california_population[['Location (# Zip Codes)','Population','% Indians (Asian)']]\n",
    "\n",
    "df_california_population.rename(columns={'Location (# Zip Codes)':'city','Population':'total_population','% Indians (Asian)':'indians_percentage'},inplace=True)\n",
    "\n",
    "df_california_population[['cities','country']] = df_california_population['city'].str.split(',',expand=True)\n",
    "\n",
    "df_california_population = df_california_population[['cities','total_population','indians_percentage']]\n",
    "df_california_population.set_index('cities',inplace=True)\n",
    "\n",
    "df_sv_population = df_california_population.loc[['San Jose','Sunnyvale','Santa Clara','Mountain View','Palo Alto','Cupertino']]\n",
    "\n",
    "df_sv_population = df_sv_population.replace('\\%','',regex=True).astype(float)\n",
    "\n",
    "df_sv_population = df_sv_population.round()\n",
    "\n",
    "df_sv_population['indians_population'] = (df_sv_population['total_population']*df_sv_population['indians_percentage'])/100\n",
    "\n",
    "df_sv_population = df_sv_population.round()\n",
    "\n",
    "df_sv_population = df_sv_population.reset_index()\n",
    "\n",
    "df_sv_population.head()"
   ]
  },
  {
   "cell_type": "markdown",
   "metadata": {},
   "source": [
    "Let's visualize the above population data set in the bar chart"
   ]
  },
  {
   "cell_type": "code",
   "execution_count": 255,
   "metadata": {},
   "outputs": [
    {
     "data": {
      "image/png": "[encoded data removed]",
      "text/plain": [
       "<Figure size 720x360 with 1 Axes>"
      ]
     },
     "metadata": {
      "needs_background": "light"
     },
     "output_type": "display_data"
    }
   ],
   "source": [
    "X = df_sv_population['cities']\n",
    "Y = df_sv_population['indians_percentage']\n",
    "\n",
    "fig, ax = plt.subplots(figsize=(10, 5))\n",
    "rects = ax.bar(X, Y, label=None, width=0.5)\n",
    "\n",
    "ax.set_xlabel('Silicon Valley Cities',fontsize=15)\n",
    "ax.set_ylabel('Percentage of Indians',fontsize=15)\n",
    "ax.set_title('Percentage of Indian Immigrants by Cities in Silicon Valley',fontsize=15)\n",
    "\n",
    "def autolabel(rects):\n",
    "    for rect in rects:\n",
    "        height = rect.get_height()\n",
    "        ax.annotate('{}'.format(height),\n",
    "                    xy=(rect.get_x() + rect.get_width() / 2, height),\n",
    "                    xytext=(0, 1),\n",
    "                    textcoords=\"offset points\",\n",
    "                    ha='center', va='bottom')\n",
    "\n",
    "autolabel(rects)\n",
    "fig.tight_layout()\n",
    "plt.show()"
   ]
  },
  {
   "cell_type": "markdown",
   "metadata": {},
   "source": [
    "<h2>3. Analyzing and Merging - Restaurant and Population data</h2>"
   ]
  },
  {
   "cell_type": "markdown",
   "metadata": {},
   "source": [
    "We are going to merging both the datasets depends on their cities"
   ]
  },
  {
   "cell_type": "code",
   "execution_count": 256,
   "metadata": {},
   "outputs": [
    {
     "data": {
      "text/html": [
       "<div>\n",
       "<style scoped>\n",
       "    .dataframe tbody tr th:only-of-type {\n",
       "        vertical-align: middle;\n",
       "    }\n",
       "\n",
       "    .dataframe tbody tr th {\n",
       "        vertical-align: top;\n",
       "    }\n",
       "\n",
       "    .dataframe thead th {\n",
       "        text-align: right;\n",
       "    }\n",
       "</style>\n",
       "<table border=\"1\" class=\"dataframe\">\n",
       "  <thead>\n",
       "    <tr style=\"text-align: right;\">\n",
       "      <th></th>\n",
       "      <th>indian_restaurants</th>\n",
       "      <th>indians_population</th>\n",
       "    </tr>\n",
       "  </thead>\n",
       "  <tbody>\n",
       "    <tr>\n",
       "      <th>Sunnyvale</th>\n",
       "      <td>10</td>\n",
       "      <td>13102.0</td>\n",
       "    </tr>\n",
       "    <tr>\n",
       "      <th>San Jose</th>\n",
       "      <td>6</td>\n",
       "      <td>27906.0</td>\n",
       "    </tr>\n",
       "    <tr>\n",
       "      <th>Santa Clara</th>\n",
       "      <td>5</td>\n",
       "      <td>9209.0</td>\n",
       "    </tr>\n",
       "    <tr>\n",
       "      <th>Mountain View</th>\n",
       "      <td>2</td>\n",
       "      <td>2937.0</td>\n",
       "    </tr>\n",
       "    <tr>\n",
       "      <th>Palo Alto</th>\n",
       "      <td>2</td>\n",
       "      <td>1757.0</td>\n",
       "    </tr>\n",
       "    <tr>\n",
       "      <th>Cupertino</th>\n",
       "      <td>1</td>\n",
       "      <td>4897.0</td>\n",
       "    </tr>\n",
       "  </tbody>\n",
       "</table>\n",
       "</div>"
      ],
      "text/plain": [
       "               indian_restaurants  indians_population\n",
       "Sunnyvale                      10             13102.0\n",
       "San Jose                        6             27906.0\n",
       "Santa Clara                     5              9209.0\n",
       "Mountain View                   2              2937.0\n",
       "Palo Alto                       2              1757.0\n",
       "Cupertino                       1              4897.0"
      ]
     },
     "execution_count": 256,
     "metadata": {},
     "output_type": "execute_result"
    }
   ],
   "source": [
    "df_sv_indians = df_sv_population[['cities','indians_population']]\n",
    "\n",
    "df_sv = pd.merge(df_restaurant_city,df_sv_indians,on='cities')\n",
    "\n",
    "df_sv.rename(columns={'count':'indian_restaurants'},inplace=True)\n",
    "\n",
    "df_sv = df_sv.set_index('cities')\n",
    "\n",
    "df_sv.index.name = None\n",
    "\n",
    "df_sv"
   ]
  },
  {
   "cell_type": "markdown",
   "metadata": {},
   "source": [
    "Normalize the above dataset for comparing the ratio of restaurants with respect to the population"
   ]
  },
  {
   "cell_type": "code",
   "execution_count": 257,
   "metadata": {},
   "outputs": [],
   "source": [
    "x = df_sv.values\n",
    "min_max_scaler = preprocessing.MinMaxScaler()\n",
    "x_scaled = min_max_scaler.fit_transform(x)\n",
    "df_sv_normalized = pd.DataFrame(x_scaled,columns=df_sv.columns,index = df_sv.index)"
   ]
  },
  {
   "cell_type": "markdown",
   "metadata": {},
   "source": [
    "Let's visualize the ratio of resaturants with population"
   ]
  },
  {
   "cell_type": "code",
   "execution_count": 258,
   "metadata": {},
   "outputs": [
    {
     "data": {
      "image/png": "[encoded data removed]",
      "text/plain": [
       "<Figure size 864x432 with 1 Axes>"
      ]
     },
     "metadata": {
      "needs_background": "light"
     },
     "output_type": "display_data"
    }
   ],
   "source": [
    "df_sv_normalized.plot(kind='line',figsize=(12,6))\n",
    "plt.xlabel('Silicon Valley Cities',fontsize=15)\n",
    "plt.ylabel('Normalized Values',fontsize=15)\n",
    "plt.title('Indian Restaurants with respect to Indian Population in Silicon Valley',fontsize=15)\n",
    "plt.show()"
   ]
  },
  {
   "cell_type": "markdown",
   "metadata": {},
   "source": [
    "<h2>4. Exploring and Clustering the Indian restaurants in Silicon Valley</h2>"
   ]
  },
  {
   "cell_type": "markdown",
   "metadata": {},
   "source": [
    "There is different type of Indian restaurants are there in the Silicon Valley. **K-Means** algorithm is one of the most common cluster method of unsupervised learning. We are going to use K-means algorithm to cluster the restaurant type in each city."
   ]
  },
  {
   "cell_type": "code",
   "execution_count": 259,
   "metadata": {},
   "outputs": [
    {
     "data": {
      "text/html": [
       "<div>\n",
       "<style scoped>\n",
       "    .dataframe tbody tr th:only-of-type {\n",
       "        vertical-align: middle;\n",
       "    }\n",
       "\n",
       "    .dataframe tbody tr th {\n",
       "        vertical-align: top;\n",
       "    }\n",
       "\n",
       "    .dataframe thead th {\n",
       "        text-align: right;\n",
       "    }\n",
       "</style>\n",
       "<table border=\"1\" class=\"dataframe\">\n",
       "  <thead>\n",
       "    <tr style=\"text-align: right;\">\n",
       "      <th></th>\n",
       "      <th>cities</th>\n",
       "      <th>categories</th>\n",
       "    </tr>\n",
       "  </thead>\n",
       "  <tbody>\n",
       "    <tr>\n",
       "      <th>0</th>\n",
       "      <td>San Jose</td>\n",
       "      <td>North Indian Restaurant</td>\n",
       "    </tr>\n",
       "    <tr>\n",
       "      <th>1</th>\n",
       "      <td>San Jose</td>\n",
       "      <td>Indian Restaurant</td>\n",
       "    </tr>\n",
       "    <tr>\n",
       "      <th>2</th>\n",
       "      <td>San Jose</td>\n",
       "      <td>Indian Restaurant</td>\n",
       "    </tr>\n",
       "    <tr>\n",
       "      <th>3</th>\n",
       "      <td>San Jose</td>\n",
       "      <td>Indian Restaurant</td>\n",
       "    </tr>\n",
       "    <tr>\n",
       "      <th>4</th>\n",
       "      <td>San Jose</td>\n",
       "      <td>Indian Restaurant</td>\n",
       "    </tr>\n",
       "  </tbody>\n",
       "</table>\n",
       "</div>"
      ],
      "text/plain": [
       "     cities               categories\n",
       "0  San Jose  North Indian Restaurant\n",
       "1  San Jose        Indian Restaurant\n",
       "2  San Jose        Indian Restaurant\n",
       "3  San Jose        Indian Restaurant\n",
       "4  San Jose        Indian Restaurant"
      ]
     },
     "execution_count": 259,
     "metadata": {},
     "output_type": "execute_result"
    }
   ],
   "source": [
    "df_kmeans = df_indian_restaurants[['categories','cities']]\n",
    "df_kmeans = df_kmeans.set_index('cities')\n",
    "df_kmeans = df_kmeans.loc[sv_cities]\n",
    "df_kmeans = df_kmeans.reset_index()\n",
    "\n",
    "df_kmeans.head()"
   ]
  },
  {
   "cell_type": "markdown",
   "metadata": {},
   "source": [
    "Let's see how many restaurants were returned for each city"
   ]
  },
  {
   "cell_type": "code",
   "execution_count": 260,
   "metadata": {},
   "outputs": [
    {
     "data": {
      "text/html": [
       "<div>\n",
       "<style scoped>\n",
       "    .dataframe tbody tr th:only-of-type {\n",
       "        vertical-align: middle;\n",
       "    }\n",
       "\n",
       "    .dataframe tbody tr th {\n",
       "        vertical-align: top;\n",
       "    }\n",
       "\n",
       "    .dataframe thead th {\n",
       "        text-align: right;\n",
       "    }\n",
       "</style>\n",
       "<table border=\"1\" class=\"dataframe\">\n",
       "  <thead>\n",
       "    <tr style=\"text-align: right;\">\n",
       "      <th></th>\n",
       "      <th>categories</th>\n",
       "    </tr>\n",
       "    <tr>\n",
       "      <th>cities</th>\n",
       "      <th></th>\n",
       "    </tr>\n",
       "  </thead>\n",
       "  <tbody>\n",
       "    <tr>\n",
       "      <th>Cupertino</th>\n",
       "      <td>1</td>\n",
       "    </tr>\n",
       "    <tr>\n",
       "      <th>Mountain View</th>\n",
       "      <td>2</td>\n",
       "    </tr>\n",
       "    <tr>\n",
       "      <th>Palo Alto</th>\n",
       "      <td>2</td>\n",
       "    </tr>\n",
       "    <tr>\n",
       "      <th>San Jose</th>\n",
       "      <td>6</td>\n",
       "    </tr>\n",
       "    <tr>\n",
       "      <th>Santa Clara</th>\n",
       "      <td>5</td>\n",
       "    </tr>\n",
       "    <tr>\n",
       "      <th>Sunnyvale</th>\n",
       "      <td>10</td>\n",
       "    </tr>\n",
       "  </tbody>\n",
       "</table>\n",
       "</div>"
      ],
      "text/plain": [
       "               categories\n",
       "cities                   \n",
       "Cupertino               1\n",
       "Mountain View           2\n",
       "Palo Alto               2\n",
       "San Jose                6\n",
       "Santa Clara             5\n",
       "Sunnyvale              10"
      ]
     },
     "execution_count": 260,
     "metadata": {},
     "output_type": "execute_result"
    }
   ],
   "source": [
    "df_kmeans.groupby('cities').count()"
   ]
  },
  {
   "cell_type": "code",
   "execution_count": 261,
   "metadata": {},
   "outputs": [
    {
     "name": "stdout",
     "output_type": "stream",
     "text": [
      "There are 3 uniques categories.\n"
     ]
    }
   ],
   "source": [
    "print('There are {} uniques categories.'.format(len(df_kmeans['categories'].unique())))"
   ]
  },
  {
   "cell_type": "markdown",
   "metadata": {},
   "source": [
    "Analyzing each neighborhood\n",
    "\n",
    "By using one hot encoding, the categorical variables are converted into a form that could be provided to ML algorithms to do a better job in prediction."
   ]
  },
  {
   "cell_type": "code",
   "execution_count": 262,
   "metadata": {},
   "outputs": [
    {
     "data": {
      "text/html": [
       "<div>\n",
       "<style scoped>\n",
       "    .dataframe tbody tr th:only-of-type {\n",
       "        vertical-align: middle;\n",
       "    }\n",
       "\n",
       "    .dataframe tbody tr th {\n",
       "        vertical-align: top;\n",
       "    }\n",
       "\n",
       "    .dataframe thead th {\n",
       "        text-align: right;\n",
       "    }\n",
       "</style>\n",
       "<table border=\"1\" class=\"dataframe\">\n",
       "  <thead>\n",
       "    <tr style=\"text-align: right;\">\n",
       "      <th></th>\n",
       "      <th>cities</th>\n",
       "      <th>Indian Restaurant</th>\n",
       "      <th>North Indian Restaurant</th>\n",
       "      <th>South Indian Restaurant</th>\n",
       "    </tr>\n",
       "  </thead>\n",
       "  <tbody>\n",
       "    <tr>\n",
       "      <th>0</th>\n",
       "      <td>San Jose</td>\n",
       "      <td>0</td>\n",
       "      <td>1</td>\n",
       "      <td>0</td>\n",
       "    </tr>\n",
       "    <tr>\n",
       "      <th>1</th>\n",
       "      <td>San Jose</td>\n",
       "      <td>1</td>\n",
       "      <td>0</td>\n",
       "      <td>0</td>\n",
       "    </tr>\n",
       "    <tr>\n",
       "      <th>2</th>\n",
       "      <td>San Jose</td>\n",
       "      <td>1</td>\n",
       "      <td>0</td>\n",
       "      <td>0</td>\n",
       "    </tr>\n",
       "    <tr>\n",
       "      <th>3</th>\n",
       "      <td>San Jose</td>\n",
       "      <td>1</td>\n",
       "      <td>0</td>\n",
       "      <td>0</td>\n",
       "    </tr>\n",
       "    <tr>\n",
       "      <th>4</th>\n",
       "      <td>San Jose</td>\n",
       "      <td>1</td>\n",
       "      <td>0</td>\n",
       "      <td>0</td>\n",
       "    </tr>\n",
       "  </tbody>\n",
       "</table>\n",
       "</div>"
      ],
      "text/plain": [
       "     cities  Indian Restaurant  North Indian Restaurant  \\\n",
       "0  San Jose                  0                        1   \n",
       "1  San Jose                  1                        0   \n",
       "2  San Jose                  1                        0   \n",
       "3  San Jose                  1                        0   \n",
       "4  San Jose                  1                        0   \n",
       "\n",
       "   South Indian Restaurant  \n",
       "0                        0  \n",
       "1                        0  \n",
       "2                        0  \n",
       "3                        0  \n",
       "4                        0  "
      ]
     },
     "execution_count": 262,
     "metadata": {},
     "output_type": "execute_result"
    }
   ],
   "source": [
    "df_onehot = pd.get_dummies(df_kmeans[['categories']], prefix=\"\", prefix_sep=\"\")\n",
    "df_onehot['cities'] = df_kmeans['cities'] \n",
    "fixed_columns = [df_onehot.columns[-1]] + list(df_onehot.columns[:-1])\n",
    "df_onehot = df_onehot[fixed_columns]\n",
    "df_onehot.head()"
   ]
  },
  {
   "cell_type": "markdown",
   "metadata": {},
   "source": [
    "Let's examine the new dataframe size"
   ]
  },
  {
   "cell_type": "code",
   "execution_count": 263,
   "metadata": {},
   "outputs": [
    {
     "data": {
      "text/plain": [
       "(26, 4)"
      ]
     },
     "execution_count": 263,
     "metadata": {},
     "output_type": "execute_result"
    }
   ],
   "source": [
    "df_onehot.shape"
   ]
  },
  {
   "cell_type": "markdown",
   "metadata": {},
   "source": [
    "Let's group rows by cities and by taking the mean of the frequency of occurrence of each category"
   ]
  },
  {
   "cell_type": "code",
   "execution_count": 264,
   "metadata": {},
   "outputs": [
    {
     "data": {
      "text/html": [
       "<div>\n",
       "<style scoped>\n",
       "    .dataframe tbody tr th:only-of-type {\n",
       "        vertical-align: middle;\n",
       "    }\n",
       "\n",
       "    .dataframe tbody tr th {\n",
       "        vertical-align: top;\n",
       "    }\n",
       "\n",
       "    .dataframe thead th {\n",
       "        text-align: right;\n",
       "    }\n",
       "</style>\n",
       "<table border=\"1\" class=\"dataframe\">\n",
       "  <thead>\n",
       "    <tr style=\"text-align: right;\">\n",
       "      <th></th>\n",
       "      <th>cities</th>\n",
       "      <th>Indian Restaurant</th>\n",
       "      <th>North Indian Restaurant</th>\n",
       "      <th>South Indian Restaurant</th>\n",
       "    </tr>\n",
       "  </thead>\n",
       "  <tbody>\n",
       "    <tr>\n",
       "      <th>0</th>\n",
       "      <td>Cupertino</td>\n",
       "      <td>1.000000</td>\n",
       "      <td>0.000000</td>\n",
       "      <td>0.0</td>\n",
       "    </tr>\n",
       "    <tr>\n",
       "      <th>1</th>\n",
       "      <td>Mountain View</td>\n",
       "      <td>1.000000</td>\n",
       "      <td>0.000000</td>\n",
       "      <td>0.0</td>\n",
       "    </tr>\n",
       "    <tr>\n",
       "      <th>2</th>\n",
       "      <td>Palo Alto</td>\n",
       "      <td>1.000000</td>\n",
       "      <td>0.000000</td>\n",
       "      <td>0.0</td>\n",
       "    </tr>\n",
       "    <tr>\n",
       "      <th>3</th>\n",
       "      <td>San Jose</td>\n",
       "      <td>0.833333</td>\n",
       "      <td>0.166667</td>\n",
       "      <td>0.0</td>\n",
       "    </tr>\n",
       "    <tr>\n",
       "      <th>4</th>\n",
       "      <td>Santa Clara</td>\n",
       "      <td>0.800000</td>\n",
       "      <td>0.000000</td>\n",
       "      <td>0.2</td>\n",
       "    </tr>\n",
       "    <tr>\n",
       "      <th>5</th>\n",
       "      <td>Sunnyvale</td>\n",
       "      <td>0.900000</td>\n",
       "      <td>0.000000</td>\n",
       "      <td>0.1</td>\n",
       "    </tr>\n",
       "  </tbody>\n",
       "</table>\n",
       "</div>"
      ],
      "text/plain": [
       "          cities  Indian Restaurant  North Indian Restaurant  \\\n",
       "0      Cupertino           1.000000                 0.000000   \n",
       "1  Mountain View           1.000000                 0.000000   \n",
       "2      Palo Alto           1.000000                 0.000000   \n",
       "3       San Jose           0.833333                 0.166667   \n",
       "4    Santa Clara           0.800000                 0.000000   \n",
       "5      Sunnyvale           0.900000                 0.000000   \n",
       "\n",
       "   South Indian Restaurant  \n",
       "0                      0.0  \n",
       "1                      0.0  \n",
       "2                      0.0  \n",
       "3                      0.0  \n",
       "4                      0.2  \n",
       "5                      0.1  "
      ]
     },
     "execution_count": 264,
     "metadata": {},
     "output_type": "execute_result"
    }
   ],
   "source": [
    "df_onehot_grouped = df_onehot.groupby('cities').mean().reset_index()\n",
    "df_onehot_grouped"
   ]
  },
  {
   "cell_type": "markdown",
   "metadata": {},
   "source": [
    "Let's see the new size"
   ]
  },
  {
   "cell_type": "code",
   "execution_count": 265,
   "metadata": {},
   "outputs": [
    {
     "data": {
      "text/plain": [
       "(6, 4)"
      ]
     },
     "execution_count": 265,
     "metadata": {},
     "output_type": "execute_result"
    }
   ],
   "source": [
    "df_onehot_grouped.shape"
   ]
  },
  {
   "cell_type": "markdown",
   "metadata": {},
   "source": [
    "The below function is used to sort the venues in descending order"
   ]
  },
  {
   "cell_type": "code",
   "execution_count": 266,
   "metadata": {},
   "outputs": [],
   "source": [
    "def return_most_common_venues(row, num_top_venues):\n",
    "    row_categories = row.iloc[1:]\n",
    "    row_categories_sorted = row_categories.sort_values(ascending=False)\n",
    "    return row_categories_sorted.index.values[0:num_top_venues]"
   ]
  },
  {
   "cell_type": "markdown",
   "metadata": {},
   "source": [
    "Let's create the new dataframe and display the 3 types of restaurants for each cities."
   ]
  },
  {
   "cell_type": "code",
   "execution_count": 267,
   "metadata": {},
   "outputs": [],
   "source": [
    "num_top_venues = 3\n",
    "\n",
    "indicators = ['st', 'nd', 'rd']\n",
    "\n",
    "columns = ['cities']\n",
    "for ind in np.arange(num_top_venues):\n",
    "    try:\n",
    "        columns.append('{}{} Most Common Restaurant Type'.format(ind+1, indicators[ind]))\n",
    "    except:\n",
    "        columns.append('{}th Most Common Restaurant Type'.format(ind+1))\n",
    "\n",
    "cities_restaurants_type_sorted = pd.DataFrame(columns=columns)\n",
    "cities_restaurants_type_sorted['cities'] = df_onehot_grouped['cities']\n",
    "\n",
    "for ind in np.arange(df_onehot_grouped.shape[0]):\n",
    "    cities_restaurants_type_sorted.iloc[ind, 1:] = return_most_common_venues(df_onehot_grouped.iloc[ind, :], num_top_venues)"
   ]
  },
  {
   "cell_type": "code",
   "execution_count": 268,
   "metadata": {},
   "outputs": [
    {
     "data": {
      "text/html": [
       "<div>\n",
       "<style scoped>\n",
       "    .dataframe tbody tr th:only-of-type {\n",
       "        vertical-align: middle;\n",
       "    }\n",
       "\n",
       "    .dataframe tbody tr th {\n",
       "        vertical-align: top;\n",
       "    }\n",
       "\n",
       "    .dataframe thead th {\n",
       "        text-align: right;\n",
       "    }\n",
       "</style>\n",
       "<table border=\"1\" class=\"dataframe\">\n",
       "  <thead>\n",
       "    <tr style=\"text-align: right;\">\n",
       "      <th></th>\n",
       "      <th>cities</th>\n",
       "      <th>1st Most Common Restaurant Type</th>\n",
       "      <th>2nd Most Common Restaurant Type</th>\n",
       "      <th>3rd Most Common Restaurant Type</th>\n",
       "    </tr>\n",
       "  </thead>\n",
       "  <tbody>\n",
       "    <tr>\n",
       "      <th>0</th>\n",
       "      <td>Cupertino</td>\n",
       "      <td>Indian Restaurant</td>\n",
       "      <td>South Indian Restaurant</td>\n",
       "      <td>North Indian Restaurant</td>\n",
       "    </tr>\n",
       "    <tr>\n",
       "      <th>1</th>\n",
       "      <td>Mountain View</td>\n",
       "      <td>Indian Restaurant</td>\n",
       "      <td>South Indian Restaurant</td>\n",
       "      <td>North Indian Restaurant</td>\n",
       "    </tr>\n",
       "    <tr>\n",
       "      <th>2</th>\n",
       "      <td>Palo Alto</td>\n",
       "      <td>Indian Restaurant</td>\n",
       "      <td>South Indian Restaurant</td>\n",
       "      <td>North Indian Restaurant</td>\n",
       "    </tr>\n",
       "    <tr>\n",
       "      <th>3</th>\n",
       "      <td>San Jose</td>\n",
       "      <td>Indian Restaurant</td>\n",
       "      <td>North Indian Restaurant</td>\n",
       "      <td>South Indian Restaurant</td>\n",
       "    </tr>\n",
       "    <tr>\n",
       "      <th>4</th>\n",
       "      <td>Santa Clara</td>\n",
       "      <td>Indian Restaurant</td>\n",
       "      <td>South Indian Restaurant</td>\n",
       "      <td>North Indian Restaurant</td>\n",
       "    </tr>\n",
       "    <tr>\n",
       "      <th>5</th>\n",
       "      <td>Sunnyvale</td>\n",
       "      <td>Indian Restaurant</td>\n",
       "      <td>South Indian Restaurant</td>\n",
       "      <td>North Indian Restaurant</td>\n",
       "    </tr>\n",
       "  </tbody>\n",
       "</table>\n",
       "</div>"
      ],
      "text/plain": [
       "          cities 1st Most Common Restaurant Type  \\\n",
       "0      Cupertino               Indian Restaurant   \n",
       "1  Mountain View               Indian Restaurant   \n",
       "2      Palo Alto               Indian Restaurant   \n",
       "3       San Jose               Indian Restaurant   \n",
       "4    Santa Clara               Indian Restaurant   \n",
       "5      Sunnyvale               Indian Restaurant   \n",
       "\n",
       "  2nd Most Common Restaurant Type 3rd Most Common Restaurant Type  \n",
       "0         South Indian Restaurant         North Indian Restaurant  \n",
       "1         South Indian Restaurant         North Indian Restaurant  \n",
       "2         South Indian Restaurant         North Indian Restaurant  \n",
       "3         North Indian Restaurant         South Indian Restaurant  \n",
       "4         South Indian Restaurant         North Indian Restaurant  \n",
       "5         South Indian Restaurant         North Indian Restaurant  "
      ]
     },
     "execution_count": 268,
     "metadata": {},
     "output_type": "execute_result"
    }
   ],
   "source": [
    "cities_restaurants_type_sorted"
   ]
  },
  {
   "cell_type": "markdown",
   "metadata": {},
   "source": [
    "Using k-means to cluster the cities into 3 clusters"
   ]
  },
  {
   "cell_type": "code",
   "execution_count": 269,
   "metadata": {},
   "outputs": [
    {
     "data": {
      "text/plain": [
       "array([1, 1, 1, 2, 0, 0], dtype=int32)"
      ]
     },
     "execution_count": 269,
     "metadata": {},
     "output_type": "execute_result"
    }
   ],
   "source": [
    "kclusters = 3\n",
    "df_onehot_grouped_clustering = df_onehot_grouped.drop('cities', 1)\n",
    "kmeans = KMeans(n_clusters=kclusters, random_state=0).fit(df_onehot_grouped_clustering)\n",
    "kmeans.labels_[0:10] "
   ]
  },
  {
   "cell_type": "markdown",
   "metadata": {},
   "source": [
    "We are going to create a new dataframe that includes the cluster as well as the 3 restaurant types for each cities"
   ]
  },
  {
   "cell_type": "code",
   "execution_count": 270,
   "metadata": {},
   "outputs": [],
   "source": [
    "cities_restaurants_type_sorted.insert(0, 'Cluster Labels', kmeans.labels_)\n",
    "restaurants_merged = df_indian_restaurants\n",
    "restaurants_merged = restaurants_merged.join(cities_restaurants_type_sorted.set_index('cities'), on='cities')"
   ]
  },
  {
   "cell_type": "code",
   "execution_count": 271,
   "metadata": {},
   "outputs": [
    {
     "data": {
      "text/html": [
       "<div>\n",
       "<style scoped>\n",
       "    .dataframe tbody tr th:only-of-type {\n",
       "        vertical-align: middle;\n",
       "    }\n",
       "\n",
       "    .dataframe tbody tr th {\n",
       "        vertical-align: top;\n",
       "    }\n",
       "\n",
       "    .dataframe thead th {\n",
       "        text-align: right;\n",
       "    }\n",
       "</style>\n",
       "<table border=\"1\" class=\"dataframe\">\n",
       "  <thead>\n",
       "    <tr style=\"text-align: right;\">\n",
       "      <th></th>\n",
       "      <th>categories</th>\n",
       "      <th>lat</th>\n",
       "      <th>lng</th>\n",
       "      <th>Cluster Labels</th>\n",
       "      <th>1st Most Common Restaurant Type</th>\n",
       "      <th>2nd Most Common Restaurant Type</th>\n",
       "      <th>3rd Most Common Restaurant Type</th>\n",
       "    </tr>\n",
       "  </thead>\n",
       "  <tbody>\n",
       "    <tr>\n",
       "      <th>0</th>\n",
       "      <td>Indian Restaurant</td>\n",
       "      <td>37.445351</td>\n",
       "      <td>-122.161423</td>\n",
       "      <td>1.0</td>\n",
       "      <td>Indian Restaurant</td>\n",
       "      <td>South Indian Restaurant</td>\n",
       "      <td>North Indian Restaurant</td>\n",
       "    </tr>\n",
       "    <tr>\n",
       "      <th>2</th>\n",
       "      <td>North Indian Restaurant</td>\n",
       "      <td>37.321388</td>\n",
       "      <td>-121.971973</td>\n",
       "      <td>2.0</td>\n",
       "      <td>Indian Restaurant</td>\n",
       "      <td>North Indian Restaurant</td>\n",
       "      <td>South Indian Restaurant</td>\n",
       "    </tr>\n",
       "    <tr>\n",
       "      <th>3</th>\n",
       "      <td>Indian Restaurant</td>\n",
       "      <td>37.376860</td>\n",
       "      <td>-121.961360</td>\n",
       "      <td>0.0</td>\n",
       "      <td>Indian Restaurant</td>\n",
       "      <td>South Indian Restaurant</td>\n",
       "      <td>North Indian Restaurant</td>\n",
       "    </tr>\n",
       "    <tr>\n",
       "      <th>6</th>\n",
       "      <td>Indian Restaurant</td>\n",
       "      <td>37.319220</td>\n",
       "      <td>-122.033050</td>\n",
       "      <td>1.0</td>\n",
       "      <td>Indian Restaurant</td>\n",
       "      <td>South Indian Restaurant</td>\n",
       "      <td>North Indian Restaurant</td>\n",
       "    </tr>\n",
       "    <tr>\n",
       "      <th>7</th>\n",
       "      <td>South Indian Restaurant</td>\n",
       "      <td>37.352790</td>\n",
       "      <td>-121.957810</td>\n",
       "      <td>0.0</td>\n",
       "      <td>Indian Restaurant</td>\n",
       "      <td>South Indian Restaurant</td>\n",
       "      <td>North Indian Restaurant</td>\n",
       "    </tr>\n",
       "    <tr>\n",
       "      <th>8</th>\n",
       "      <td>Indian Restaurant</td>\n",
       "      <td>37.394322</td>\n",
       "      <td>-121.959752</td>\n",
       "      <td>0.0</td>\n",
       "      <td>Indian Restaurant</td>\n",
       "      <td>South Indian Restaurant</td>\n",
       "      <td>North Indian Restaurant</td>\n",
       "    </tr>\n",
       "    <tr>\n",
       "      <th>12</th>\n",
       "      <td>Indian Restaurant</td>\n",
       "      <td>37.365801</td>\n",
       "      <td>-122.028654</td>\n",
       "      <td>0.0</td>\n",
       "      <td>Indian Restaurant</td>\n",
       "      <td>South Indian Restaurant</td>\n",
       "      <td>North Indian Restaurant</td>\n",
       "    </tr>\n",
       "    <tr>\n",
       "      <th>13</th>\n",
       "      <td>Indian Restaurant</td>\n",
       "      <td>37.350743</td>\n",
       "      <td>-121.884273</td>\n",
       "      <td>2.0</td>\n",
       "      <td>Indian Restaurant</td>\n",
       "      <td>North Indian Restaurant</td>\n",
       "      <td>South Indian Restaurant</td>\n",
       "    </tr>\n",
       "    <tr>\n",
       "      <th>16</th>\n",
       "      <td>Indian Restaurant</td>\n",
       "      <td>37.366203</td>\n",
       "      <td>-122.013419</td>\n",
       "      <td>0.0</td>\n",
       "      <td>Indian Restaurant</td>\n",
       "      <td>South Indian Restaurant</td>\n",
       "      <td>North Indian Restaurant</td>\n",
       "    </tr>\n",
       "    <tr>\n",
       "      <th>17</th>\n",
       "      <td>South Indian Restaurant</td>\n",
       "      <td>37.371130</td>\n",
       "      <td>-122.046882</td>\n",
       "      <td>0.0</td>\n",
       "      <td>Indian Restaurant</td>\n",
       "      <td>South Indian Restaurant</td>\n",
       "      <td>North Indian Restaurant</td>\n",
       "    </tr>\n",
       "    <tr>\n",
       "      <th>19</th>\n",
       "      <td>Indian Restaurant</td>\n",
       "      <td>37.393244</td>\n",
       "      <td>-122.079419</td>\n",
       "      <td>1.0</td>\n",
       "      <td>Indian Restaurant</td>\n",
       "      <td>South Indian Restaurant</td>\n",
       "      <td>North Indian Restaurant</td>\n",
       "    </tr>\n",
       "    <tr>\n",
       "      <th>20</th>\n",
       "      <td>Indian Restaurant</td>\n",
       "      <td>37.426834</td>\n",
       "      <td>-122.144179</td>\n",
       "      <td>1.0</td>\n",
       "      <td>Indian Restaurant</td>\n",
       "      <td>South Indian Restaurant</td>\n",
       "      <td>North Indian Restaurant</td>\n",
       "    </tr>\n",
       "    <tr>\n",
       "      <th>21</th>\n",
       "      <td>Indian Restaurant</td>\n",
       "      <td>37.374289</td>\n",
       "      <td>-122.054920</td>\n",
       "      <td>0.0</td>\n",
       "      <td>Indian Restaurant</td>\n",
       "      <td>South Indian Restaurant</td>\n",
       "      <td>North Indian Restaurant</td>\n",
       "    </tr>\n",
       "    <tr>\n",
       "      <th>24</th>\n",
       "      <td>Indian Restaurant</td>\n",
       "      <td>37.402634</td>\n",
       "      <td>-121.933285</td>\n",
       "      <td>2.0</td>\n",
       "      <td>Indian Restaurant</td>\n",
       "      <td>North Indian Restaurant</td>\n",
       "      <td>South Indian Restaurant</td>\n",
       "    </tr>\n",
       "    <tr>\n",
       "      <th>25</th>\n",
       "      <td>Indian Restaurant</td>\n",
       "      <td>37.373317</td>\n",
       "      <td>-122.052469</td>\n",
       "      <td>0.0</td>\n",
       "      <td>Indian Restaurant</td>\n",
       "      <td>South Indian Restaurant</td>\n",
       "      <td>North Indian Restaurant</td>\n",
       "    </tr>\n",
       "    <tr>\n",
       "      <th>27</th>\n",
       "      <td>Indian Restaurant</td>\n",
       "      <td>37.371177</td>\n",
       "      <td>-122.047166</td>\n",
       "      <td>0.0</td>\n",
       "      <td>Indian Restaurant</td>\n",
       "      <td>South Indian Restaurant</td>\n",
       "      <td>North Indian Restaurant</td>\n",
       "    </tr>\n",
       "    <tr>\n",
       "      <th>28</th>\n",
       "      <td>Indian Restaurant</td>\n",
       "      <td>37.360936</td>\n",
       "      <td>-121.836430</td>\n",
       "      <td>2.0</td>\n",
       "      <td>Indian Restaurant</td>\n",
       "      <td>North Indian Restaurant</td>\n",
       "      <td>South Indian Restaurant</td>\n",
       "    </tr>\n",
       "    <tr>\n",
       "      <th>29</th>\n",
       "      <td>Indian Restaurant</td>\n",
       "      <td>37.363373</td>\n",
       "      <td>-122.025937</td>\n",
       "      <td>0.0</td>\n",
       "      <td>Indian Restaurant</td>\n",
       "      <td>South Indian Restaurant</td>\n",
       "      <td>North Indian Restaurant</td>\n",
       "    </tr>\n",
       "    <tr>\n",
       "      <th>31</th>\n",
       "      <td>Indian Restaurant</td>\n",
       "      <td>37.375164</td>\n",
       "      <td>-122.057854</td>\n",
       "      <td>0.0</td>\n",
       "      <td>Indian Restaurant</td>\n",
       "      <td>South Indian Restaurant</td>\n",
       "      <td>North Indian Restaurant</td>\n",
       "    </tr>\n",
       "    <tr>\n",
       "      <th>34</th>\n",
       "      <td>Indian Restaurant</td>\n",
       "      <td>37.291597</td>\n",
       "      <td>-121.993398</td>\n",
       "      <td>2.0</td>\n",
       "      <td>Indian Restaurant</td>\n",
       "      <td>North Indian Restaurant</td>\n",
       "      <td>South Indian Restaurant</td>\n",
       "    </tr>\n",
       "    <tr>\n",
       "      <th>35</th>\n",
       "      <td>Indian Restaurant</td>\n",
       "      <td>37.383032</td>\n",
       "      <td>-121.995379</td>\n",
       "      <td>0.0</td>\n",
       "      <td>Indian Restaurant</td>\n",
       "      <td>South Indian Restaurant</td>\n",
       "      <td>North Indian Restaurant</td>\n",
       "    </tr>\n",
       "    <tr>\n",
       "      <th>36</th>\n",
       "      <td>Indian Restaurant</td>\n",
       "      <td>37.371535</td>\n",
       "      <td>-122.045861</td>\n",
       "      <td>0.0</td>\n",
       "      <td>Indian Restaurant</td>\n",
       "      <td>South Indian Restaurant</td>\n",
       "      <td>North Indian Restaurant</td>\n",
       "    </tr>\n",
       "    <tr>\n",
       "      <th>37</th>\n",
       "      <td>Indian Restaurant</td>\n",
       "      <td>37.352670</td>\n",
       "      <td>-121.982717</td>\n",
       "      <td>0.0</td>\n",
       "      <td>Indian Restaurant</td>\n",
       "      <td>South Indian Restaurant</td>\n",
       "      <td>North Indian Restaurant</td>\n",
       "    </tr>\n",
       "    <tr>\n",
       "      <th>39</th>\n",
       "      <td>Indian Restaurant</td>\n",
       "      <td>37.352717</td>\n",
       "      <td>-121.980351</td>\n",
       "      <td>0.0</td>\n",
       "      <td>Indian Restaurant</td>\n",
       "      <td>South Indian Restaurant</td>\n",
       "      <td>North Indian Restaurant</td>\n",
       "    </tr>\n",
       "    <tr>\n",
       "      <th>43</th>\n",
       "      <td>Indian Restaurant</td>\n",
       "      <td>37.378563</td>\n",
       "      <td>-122.071101</td>\n",
       "      <td>1.0</td>\n",
       "      <td>Indian Restaurant</td>\n",
       "      <td>South Indian Restaurant</td>\n",
       "      <td>North Indian Restaurant</td>\n",
       "    </tr>\n",
       "    <tr>\n",
       "      <th>44</th>\n",
       "      <td>Indian Restaurant</td>\n",
       "      <td>37.390448</td>\n",
       "      <td>-121.879324</td>\n",
       "      <td>2.0</td>\n",
       "      <td>Indian Restaurant</td>\n",
       "      <td>North Indian Restaurant</td>\n",
       "      <td>South Indian Restaurant</td>\n",
       "    </tr>\n",
       "  </tbody>\n",
       "</table>\n",
       "</div>"
      ],
      "text/plain": [
       "                 categories        lat         lng  Cluster Labels  \\\n",
       "0         Indian Restaurant  37.445351 -122.161423             1.0   \n",
       "2   North Indian Restaurant  37.321388 -121.971973             2.0   \n",
       "3         Indian Restaurant  37.376860 -121.961360             0.0   \n",
       "6         Indian Restaurant  37.319220 -122.033050             1.0   \n",
       "7   South Indian Restaurant  37.352790 -121.957810             0.0   \n",
       "8         Indian Restaurant  37.394322 -121.959752             0.0   \n",
       "12        Indian Restaurant  37.365801 -122.028654             0.0   \n",
       "13        Indian Restaurant  37.350743 -121.884273             2.0   \n",
       "16        Indian Restaurant  37.366203 -122.013419             0.0   \n",
       "17  South Indian Restaurant  37.371130 -122.046882             0.0   \n",
       "19        Indian Restaurant  37.393244 -122.079419             1.0   \n",
       "20        Indian Restaurant  37.426834 -122.144179             1.0   \n",
       "21        Indian Restaurant  37.374289 -122.054920             0.0   \n",
       "24        Indian Restaurant  37.402634 -121.933285             2.0   \n",
       "25        Indian Restaurant  37.373317 -122.052469             0.0   \n",
       "27        Indian Restaurant  37.371177 -122.047166             0.0   \n",
       "28        Indian Restaurant  37.360936 -121.836430             2.0   \n",
       "29        Indian Restaurant  37.363373 -122.025937             0.0   \n",
       "31        Indian Restaurant  37.375164 -122.057854             0.0   \n",
       "34        Indian Restaurant  37.291597 -121.993398             2.0   \n",
       "35        Indian Restaurant  37.383032 -121.995379             0.0   \n",
       "36        Indian Restaurant  37.371535 -122.045861             0.0   \n",
       "37        Indian Restaurant  37.352670 -121.982717             0.0   \n",
       "39        Indian Restaurant  37.352717 -121.980351             0.0   \n",
       "43        Indian Restaurant  37.378563 -122.071101             1.0   \n",
       "44        Indian Restaurant  37.390448 -121.879324             2.0   \n",
       "\n",
       "   1st Most Common Restaurant Type 2nd Most Common Restaurant Type  \\\n",
       "0                Indian Restaurant         South Indian Restaurant   \n",
       "2                Indian Restaurant         North Indian Restaurant   \n",
       "3                Indian Restaurant         South Indian Restaurant   \n",
       "6                Indian Restaurant         South Indian Restaurant   \n",
       "7                Indian Restaurant         South Indian Restaurant   \n",
       "8                Indian Restaurant         South Indian Restaurant   \n",
       "12               Indian Restaurant         South Indian Restaurant   \n",
       "13               Indian Restaurant         North Indian Restaurant   \n",
       "16               Indian Restaurant         South Indian Restaurant   \n",
       "17               Indian Restaurant         South Indian Restaurant   \n",
       "19               Indian Restaurant         South Indian Restaurant   \n",
       "20               Indian Restaurant         South Indian Restaurant   \n",
       "21               Indian Restaurant         South Indian Restaurant   \n",
       "24               Indian Restaurant         North Indian Restaurant   \n",
       "25               Indian Restaurant         South Indian Restaurant   \n",
       "27               Indian Restaurant         South Indian Restaurant   \n",
       "28               Indian Restaurant         North Indian Restaurant   \n",
       "29               Indian Restaurant         South Indian Restaurant   \n",
       "31               Indian Restaurant         South Indian Restaurant   \n",
       "34               Indian Restaurant         North Indian Restaurant   \n",
       "35               Indian Restaurant         South Indian Restaurant   \n",
       "36               Indian Restaurant         South Indian Restaurant   \n",
       "37               Indian Restaurant         South Indian Restaurant   \n",
       "39               Indian Restaurant         South Indian Restaurant   \n",
       "43               Indian Restaurant         South Indian Restaurant   \n",
       "44               Indian Restaurant         North Indian Restaurant   \n",
       "\n",
       "   3rd Most Common Restaurant Type  \n",
       "0          North Indian Restaurant  \n",
       "2          South Indian Restaurant  \n",
       "3          North Indian Restaurant  \n",
       "6          North Indian Restaurant  \n",
       "7          North Indian Restaurant  \n",
       "8          North Indian Restaurant  \n",
       "12         North Indian Restaurant  \n",
       "13         South Indian Restaurant  \n",
       "16         North Indian Restaurant  \n",
       "17         North Indian Restaurant  \n",
       "19         North Indian Restaurant  \n",
       "20         North Indian Restaurant  \n",
       "21         North Indian Restaurant  \n",
       "24         South Indian Restaurant  \n",
       "25         North Indian Restaurant  \n",
       "27         North Indian Restaurant  \n",
       "28         South Indian Restaurant  \n",
       "29         North Indian Restaurant  \n",
       "31         North Indian Restaurant  \n",
       "34         South Indian Restaurant  \n",
       "35         North Indian Restaurant  \n",
       "36         North Indian Restaurant  \n",
       "37         North Indian Restaurant  \n",
       "39         North Indian Restaurant  \n",
       "43         North Indian Restaurant  \n",
       "44         South Indian Restaurant  "
      ]
     },
     "execution_count": 271,
     "metadata": {},
     "output_type": "execute_result"
    }
   ],
   "source": [
    "restaurants_merged = restaurants_merged.drop(['name','cities'],axis=1)\n",
    "restaurants_merged = restaurants_merged.dropna()\n",
    "restaurants_merged"
   ]
  },
  {
   "cell_type": "code",
   "execution_count": 272,
   "metadata": {},
   "outputs": [],
   "source": [
    "restaurants_merged['Cluster Labels'] = restaurants_merged['Cluster Labels'].astype(int)"
   ]
  },
  {
   "cell_type": "markdown",
   "metadata": {},
   "source": [
    "Let's estimate the number of 1st Most Common Venue in each cluster"
   ]
  },
  {
   "cell_type": "code",
   "execution_count": 273,
   "metadata": {},
   "outputs": [],
   "source": [
    "df_common = restaurants_merged[['Cluster Labels','1st Most Common Restaurant Type']]\n",
    "df_common = df_common.groupby('Cluster Labels').count()"
   ]
  },
  {
   "cell_type": "code",
   "execution_count": 274,
   "metadata": {},
   "outputs": [
    {
     "data": {
      "image/png": "[encoded data removed]",
      "text/plain": [
       "<Figure size 432x288 with 1 Axes>"
      ]
     },
     "metadata": {
      "needs_background": "light"
     },
     "output_type": "display_data"
    }
   ],
   "source": [
    "df_common.plot(kind='bar')\n",
    "plt.xlabel('Clusters')\n",
    "plt.ylabel('Numbers')\n",
    "plt.title('Number of 1st common type Restaurants in Each Cluster')\n",
    "plt.show()"
   ]
  },
  {
   "cell_type": "markdown",
   "metadata": {},
   "source": [
    "Let's visualize the resulting clusters"
   ]
  },
  {
   "cell_type": "code",
   "execution_count": 275,
   "metadata": {},
   "outputs": [
    {
     "data": {
      "text/html": [
       "<div style=\"width:100%;\"><div style=\"position:relative;width:100%;height:0;padding-bottom:60%;\"><span style=\"color:#565656\">Make this Notebook Trusted to load map: File -> Trust Notebook</span><iframe src=\"about:blank\" style=\"position:absolute;width:100%;height:100%;left:0;top:0;border:none !important;\" data-html=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 onload=\"this.contentDocument.open();this.contentDocument.write(atob(this.getAttribute('data-html')));this.contentDocument.close();\" allowfullscreen webkitallowfullscreen mozallowfullscreen></iframe></div></div>"
      ],
      "text/plain": [
       "<folium.folium.Map at 0x7fa2b7135d68>"
      ]
     },
     "execution_count": 275,
     "metadata": {},
     "output_type": "execute_result"
    }
   ],
   "source": [
    "map_clusters = folium.Map(location=[latitude, longitude], zoom_start=11)\n",
    "\n",
    "x = np.arange(kclusters)\n",
    "ys = [i + x + (i*x)**2 for i in range(kclusters)]\n",
    "colors_array = cm.rainbow(np.linspace(0, 1, len(ys)))\n",
    "rainbow = [colors.rgb2hex(i) for i in colors_array]\n",
    "\n",
    "markers_colors = []\n",
    "for lat, lon, poi, cluster in zip(restaurants_merged['lat'], restaurants_merged['lng'], restaurants_merged['categories'], restaurants_merged['Cluster Labels']):\n",
    "    label = folium.Popup(str(poi) + ' Cluster ' + str(cluster), parse_html=True)\n",
    "    folium.CircleMarker(\n",
    "        [lat, lon],\n",
    "        radius=5,\n",
    "        popup=label,\n",
    "        color=rainbow[cluster-1],\n",
    "        fill=True,\n",
    "        fill_color=rainbow[cluster-1],\n",
    "        fill_opacity=0.7).add_to(map_clusters)\n",
    "       \n",
    "map_clusters"
   ]
  },
  {
   "cell_type": "markdown",
   "metadata": {},
   "source": [
    "Now, we can examine each cluster and determine the discriminating restaurant types that distinguish each cluster."
   ]
  },
  {
   "cell_type": "markdown",
   "metadata": {},
   "source": [
    "**Cluster 1**"
   ]
  },
  {
   "cell_type": "code",
   "execution_count": 276,
   "metadata": {},
   "outputs": [
    {
     "data": {
      "text/html": [
       "<div>\n",
       "<style scoped>\n",
       "    .dataframe tbody tr th:only-of-type {\n",
       "        vertical-align: middle;\n",
       "    }\n",
       "\n",
       "    .dataframe tbody tr th {\n",
       "        vertical-align: top;\n",
       "    }\n",
       "\n",
       "    .dataframe thead th {\n",
       "        text-align: right;\n",
       "    }\n",
       "</style>\n",
       "<table border=\"1\" class=\"dataframe\">\n",
       "  <thead>\n",
       "    <tr style=\"text-align: right;\">\n",
       "      <th></th>\n",
       "      <th>categories</th>\n",
       "      <th>1st Most Common Restaurant Type</th>\n",
       "      <th>2nd Most Common Restaurant Type</th>\n",
       "      <th>3rd Most Common Restaurant Type</th>\n",
       "    </tr>\n",
       "  </thead>\n",
       "  <tbody>\n",
       "    <tr>\n",
       "      <th>3</th>\n",
       "      <td>Indian Restaurant</td>\n",
       "      <td>Indian Restaurant</td>\n",
       "      <td>South Indian Restaurant</td>\n",
       "      <td>North Indian Restaurant</td>\n",
       "    </tr>\n",
       "    <tr>\n",
       "      <th>7</th>\n",
       "      <td>South Indian Restaurant</td>\n",
       "      <td>Indian Restaurant</td>\n",
       "      <td>South Indian Restaurant</td>\n",
       "      <td>North Indian Restaurant</td>\n",
       "    </tr>\n",
       "    <tr>\n",
       "      <th>8</th>\n",
       "      <td>Indian Restaurant</td>\n",
       "      <td>Indian Restaurant</td>\n",
       "      <td>South Indian Restaurant</td>\n",
       "      <td>North Indian Restaurant</td>\n",
       "    </tr>\n",
       "    <tr>\n",
       "      <th>12</th>\n",
       "      <td>Indian Restaurant</td>\n",
       "      <td>Indian Restaurant</td>\n",
       "      <td>South Indian Restaurant</td>\n",
       "      <td>North Indian Restaurant</td>\n",
       "    </tr>\n",
       "    <tr>\n",
       "      <th>16</th>\n",
       "      <td>Indian Restaurant</td>\n",
       "      <td>Indian Restaurant</td>\n",
       "      <td>South Indian Restaurant</td>\n",
       "      <td>North Indian Restaurant</td>\n",
       "    </tr>\n",
       "    <tr>\n",
       "      <th>17</th>\n",
       "      <td>South Indian Restaurant</td>\n",
       "      <td>Indian Restaurant</td>\n",
       "      <td>South Indian Restaurant</td>\n",
       "      <td>North Indian Restaurant</td>\n",
       "    </tr>\n",
       "    <tr>\n",
       "      <th>21</th>\n",
       "      <td>Indian Restaurant</td>\n",
       "      <td>Indian Restaurant</td>\n",
       "      <td>South Indian Restaurant</td>\n",
       "      <td>North Indian Restaurant</td>\n",
       "    </tr>\n",
       "    <tr>\n",
       "      <th>25</th>\n",
       "      <td>Indian Restaurant</td>\n",
       "      <td>Indian Restaurant</td>\n",
       "      <td>South Indian Restaurant</td>\n",
       "      <td>North Indian Restaurant</td>\n",
       "    </tr>\n",
       "    <tr>\n",
       "      <th>27</th>\n",
       "      <td>Indian Restaurant</td>\n",
       "      <td>Indian Restaurant</td>\n",
       "      <td>South Indian Restaurant</td>\n",
       "      <td>North Indian Restaurant</td>\n",
       "    </tr>\n",
       "    <tr>\n",
       "      <th>29</th>\n",
       "      <td>Indian Restaurant</td>\n",
       "      <td>Indian Restaurant</td>\n",
       "      <td>South Indian Restaurant</td>\n",
       "      <td>North Indian Restaurant</td>\n",
       "    </tr>\n",
       "    <tr>\n",
       "      <th>31</th>\n",
       "      <td>Indian Restaurant</td>\n",
       "      <td>Indian Restaurant</td>\n",
       "      <td>South Indian Restaurant</td>\n",
       "      <td>North Indian Restaurant</td>\n",
       "    </tr>\n",
       "    <tr>\n",
       "      <th>35</th>\n",
       "      <td>Indian Restaurant</td>\n",
       "      <td>Indian Restaurant</td>\n",
       "      <td>South Indian Restaurant</td>\n",
       "      <td>North Indian Restaurant</td>\n",
       "    </tr>\n",
       "    <tr>\n",
       "      <th>36</th>\n",
       "      <td>Indian Restaurant</td>\n",
       "      <td>Indian Restaurant</td>\n",
       "      <td>South Indian Restaurant</td>\n",
       "      <td>North Indian Restaurant</td>\n",
       "    </tr>\n",
       "    <tr>\n",
       "      <th>37</th>\n",
       "      <td>Indian Restaurant</td>\n",
       "      <td>Indian Restaurant</td>\n",
       "      <td>South Indian Restaurant</td>\n",
       "      <td>North Indian Restaurant</td>\n",
       "    </tr>\n",
       "    <tr>\n",
       "      <th>39</th>\n",
       "      <td>Indian Restaurant</td>\n",
       "      <td>Indian Restaurant</td>\n",
       "      <td>South Indian Restaurant</td>\n",
       "      <td>North Indian Restaurant</td>\n",
       "    </tr>\n",
       "  </tbody>\n",
       "</table>\n",
       "</div>"
      ],
      "text/plain": [
       "                 categories 1st Most Common Restaurant Type  \\\n",
       "3         Indian Restaurant               Indian Restaurant   \n",
       "7   South Indian Restaurant               Indian Restaurant   \n",
       "8         Indian Restaurant               Indian Restaurant   \n",
       "12        Indian Restaurant               Indian Restaurant   \n",
       "16        Indian Restaurant               Indian Restaurant   \n",
       "17  South Indian Restaurant               Indian Restaurant   \n",
       "21        Indian Restaurant               Indian Restaurant   \n",
       "25        Indian Restaurant               Indian Restaurant   \n",
       "27        Indian Restaurant               Indian Restaurant   \n",
       "29        Indian Restaurant               Indian Restaurant   \n",
       "31        Indian Restaurant               Indian Restaurant   \n",
       "35        Indian Restaurant               Indian Restaurant   \n",
       "36        Indian Restaurant               Indian Restaurant   \n",
       "37        Indian Restaurant               Indian Restaurant   \n",
       "39        Indian Restaurant               Indian Restaurant   \n",
       "\n",
       "   2nd Most Common Restaurant Type 3rd Most Common Restaurant Type  \n",
       "3          South Indian Restaurant         North Indian Restaurant  \n",
       "7          South Indian Restaurant         North Indian Restaurant  \n",
       "8          South Indian Restaurant         North Indian Restaurant  \n",
       "12         South Indian Restaurant         North Indian Restaurant  \n",
       "16         South Indian Restaurant         North Indian Restaurant  \n",
       "17         South Indian Restaurant         North Indian Restaurant  \n",
       "21         South Indian Restaurant         North Indian Restaurant  \n",
       "25         South Indian Restaurant         North Indian Restaurant  \n",
       "27         South Indian Restaurant         North Indian Restaurant  \n",
       "29         South Indian Restaurant         North Indian Restaurant  \n",
       "31         South Indian Restaurant         North Indian Restaurant  \n",
       "35         South Indian Restaurant         North Indian Restaurant  \n",
       "36         South Indian Restaurant         North Indian Restaurant  \n",
       "37         South Indian Restaurant         North Indian Restaurant  \n",
       "39         South Indian Restaurant         North Indian Restaurant  "
      ]
     },
     "execution_count": 276,
     "metadata": {},
     "output_type": "execute_result"
    }
   ],
   "source": [
    "restaurants_merged.loc[restaurants_merged['Cluster Labels'] == 0, restaurants_merged.columns[[0] + list(range(4, restaurants_merged.shape[1]))]]"
   ]
  },
  {
   "cell_type": "markdown",
   "metadata": {},
   "source": [
    "**Cluster 2**"
   ]
  },
  {
   "cell_type": "code",
   "execution_count": 277,
   "metadata": {},
   "outputs": [
    {
     "data": {
      "text/html": [
       "<div>\n",
       "<style scoped>\n",
       "    .dataframe tbody tr th:only-of-type {\n",
       "        vertical-align: middle;\n",
       "    }\n",
       "\n",
       "    .dataframe tbody tr th {\n",
       "        vertical-align: top;\n",
       "    }\n",
       "\n",
       "    .dataframe thead th {\n",
       "        text-align: right;\n",
       "    }\n",
       "</style>\n",
       "<table border=\"1\" class=\"dataframe\">\n",
       "  <thead>\n",
       "    <tr style=\"text-align: right;\">\n",
       "      <th></th>\n",
       "      <th>categories</th>\n",
       "      <th>1st Most Common Restaurant Type</th>\n",
       "      <th>2nd Most Common Restaurant Type</th>\n",
       "      <th>3rd Most Common Restaurant Type</th>\n",
       "    </tr>\n",
       "  </thead>\n",
       "  <tbody>\n",
       "    <tr>\n",
       "      <th>0</th>\n",
       "      <td>Indian Restaurant</td>\n",
       "      <td>Indian Restaurant</td>\n",
       "      <td>South Indian Restaurant</td>\n",
       "      <td>North Indian Restaurant</td>\n",
       "    </tr>\n",
       "    <tr>\n",
       "      <th>6</th>\n",
       "      <td>Indian Restaurant</td>\n",
       "      <td>Indian Restaurant</td>\n",
       "      <td>South Indian Restaurant</td>\n",
       "      <td>North Indian Restaurant</td>\n",
       "    </tr>\n",
       "    <tr>\n",
       "      <th>19</th>\n",
       "      <td>Indian Restaurant</td>\n",
       "      <td>Indian Restaurant</td>\n",
       "      <td>South Indian Restaurant</td>\n",
       "      <td>North Indian Restaurant</td>\n",
       "    </tr>\n",
       "    <tr>\n",
       "      <th>20</th>\n",
       "      <td>Indian Restaurant</td>\n",
       "      <td>Indian Restaurant</td>\n",
       "      <td>South Indian Restaurant</td>\n",
       "      <td>North Indian Restaurant</td>\n",
       "    </tr>\n",
       "    <tr>\n",
       "      <th>43</th>\n",
       "      <td>Indian Restaurant</td>\n",
       "      <td>Indian Restaurant</td>\n",
       "      <td>South Indian Restaurant</td>\n",
       "      <td>North Indian Restaurant</td>\n",
       "    </tr>\n",
       "  </tbody>\n",
       "</table>\n",
       "</div>"
      ],
      "text/plain": [
       "           categories 1st Most Common Restaurant Type  \\\n",
       "0   Indian Restaurant               Indian Restaurant   \n",
       "6   Indian Restaurant               Indian Restaurant   \n",
       "19  Indian Restaurant               Indian Restaurant   \n",
       "20  Indian Restaurant               Indian Restaurant   \n",
       "43  Indian Restaurant               Indian Restaurant   \n",
       "\n",
       "   2nd Most Common Restaurant Type 3rd Most Common Restaurant Type  \n",
       "0          South Indian Restaurant         North Indian Restaurant  \n",
       "6          South Indian Restaurant         North Indian Restaurant  \n",
       "19         South Indian Restaurant         North Indian Restaurant  \n",
       "20         South Indian Restaurant         North Indian Restaurant  \n",
       "43         South Indian Restaurant         North Indian Restaurant  "
      ]
     },
     "execution_count": 277,
     "metadata": {},
     "output_type": "execute_result"
    }
   ],
   "source": [
    "restaurants_merged.loc[restaurants_merged['Cluster Labels'] == 1, restaurants_merged.columns[[0] + list(range(4, restaurants_merged.shape[1]))]]"
   ]
  },
  {
   "cell_type": "markdown",
   "metadata": {},
   "source": [
    "**Cluster 3**"
   ]
  },
  {
   "cell_type": "code",
   "execution_count": 278,
   "metadata": {},
   "outputs": [
    {
     "data": {
      "text/html": [
       "<div>\n",
       "<style scoped>\n",
       "    .dataframe tbody tr th:only-of-type {\n",
       "        vertical-align: middle;\n",
       "    }\n",
       "\n",
       "    .dataframe tbody tr th {\n",
       "        vertical-align: top;\n",
       "    }\n",
       "\n",
       "    .dataframe thead th {\n",
       "        text-align: right;\n",
       "    }\n",
       "</style>\n",
       "<table border=\"1\" class=\"dataframe\">\n",
       "  <thead>\n",
       "    <tr style=\"text-align: right;\">\n",
       "      <th></th>\n",
       "      <th>categories</th>\n",
       "      <th>1st Most Common Restaurant Type</th>\n",
       "      <th>2nd Most Common Restaurant Type</th>\n",
       "      <th>3rd Most Common Restaurant Type</th>\n",
       "    </tr>\n",
       "  </thead>\n",
       "  <tbody>\n",
       "    <tr>\n",
       "      <th>2</th>\n",
       "      <td>North Indian Restaurant</td>\n",
       "      <td>Indian Restaurant</td>\n",
       "      <td>North Indian Restaurant</td>\n",
       "      <td>South Indian Restaurant</td>\n",
       "    </tr>\n",
       "    <tr>\n",
       "      <th>13</th>\n",
       "      <td>Indian Restaurant</td>\n",
       "      <td>Indian Restaurant</td>\n",
       "      <td>North Indian Restaurant</td>\n",
       "      <td>South Indian Restaurant</td>\n",
       "    </tr>\n",
       "    <tr>\n",
       "      <th>24</th>\n",
       "      <td>Indian Restaurant</td>\n",
       "      <td>Indian Restaurant</td>\n",
       "      <td>North Indian Restaurant</td>\n",
       "      <td>South Indian Restaurant</td>\n",
       "    </tr>\n",
       "    <tr>\n",
       "      <th>28</th>\n",
       "      <td>Indian Restaurant</td>\n",
       "      <td>Indian Restaurant</td>\n",
       "      <td>North Indian Restaurant</td>\n",
       "      <td>South Indian Restaurant</td>\n",
       "    </tr>\n",
       "    <tr>\n",
       "      <th>34</th>\n",
       "      <td>Indian Restaurant</td>\n",
       "      <td>Indian Restaurant</td>\n",
       "      <td>North Indian Restaurant</td>\n",
       "      <td>South Indian Restaurant</td>\n",
       "    </tr>\n",
       "    <tr>\n",
       "      <th>44</th>\n",
       "      <td>Indian Restaurant</td>\n",
       "      <td>Indian Restaurant</td>\n",
       "      <td>North Indian Restaurant</td>\n",
       "      <td>South Indian Restaurant</td>\n",
       "    </tr>\n",
       "  </tbody>\n",
       "</table>\n",
       "</div>"
      ],
      "text/plain": [
       "                 categories 1st Most Common Restaurant Type  \\\n",
       "2   North Indian Restaurant               Indian Restaurant   \n",
       "13        Indian Restaurant               Indian Restaurant   \n",
       "24        Indian Restaurant               Indian Restaurant   \n",
       "28        Indian Restaurant               Indian Restaurant   \n",
       "34        Indian Restaurant               Indian Restaurant   \n",
       "44        Indian Restaurant               Indian Restaurant   \n",
       "\n",
       "   2nd Most Common Restaurant Type 3rd Most Common Restaurant Type  \n",
       "2          North Indian Restaurant         South Indian Restaurant  \n",
       "13         North Indian Restaurant         South Indian Restaurant  \n",
       "24         North Indian Restaurant         South Indian Restaurant  \n",
       "28         North Indian Restaurant         South Indian Restaurant  \n",
       "34         North Indian Restaurant         South Indian Restaurant  \n",
       "44         North Indian Restaurant         South Indian Restaurant  "
      ]
     },
     "execution_count": 278,
     "metadata": {},
     "output_type": "execute_result"
    }
   ],
   "source": [
    "restaurants_merged.loc[restaurants_merged['Cluster Labels'] == 2, restaurants_merged.columns[[0] + list(range(4, restaurants_merged.shape[1]))]]"
   ]
  },
  {
   "cell_type": "markdown",
   "metadata": {},
   "source": [
    "***"
   ]
  },
  {
   "cell_type": "code",
   "execution_count": null,
   "metadata": {},
   "outputs": [],
   "source": []
  }
 ],
 "metadata": {
  "kernelspec": {
   "display_name": "Python",
   "language": "python",
   "name": "conda-env-python-py"
  },
  "language_info": {
   "codemirror_mode": {
    "name": "ipython",
    "version": 3
   },
   "file_extension": ".py",
   "mimetype": "text/x-python",
   "name": "python",
   "nbconvert_exporter": "python",
   "pygments_lexer": "ipython3",
   "version": "3.6.10"
  }
 },
 "nbformat": 4,
 "nbformat_minor": 4
}
