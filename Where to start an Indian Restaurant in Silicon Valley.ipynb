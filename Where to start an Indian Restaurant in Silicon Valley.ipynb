{
 "cells": [
  {
   "cell_type": "markdown",
   "metadata": {},
   "source": [
    "<h1 align=center>Where to start an Indian Restaurant in Silicon Valley, California.</h1>"
   ]
  },
  {
   "cell_type": "markdown",
   "metadata": {},
   "source": [
    "<h2>Introduction</h2>\n",
    "\n",
    "<h3>Description and Discussion of the background</h3>\n",
    "\n",
    "As every software engineers dream land, I decided to use Silicon Valley in my project. It is a region in the southern part of the San Francisco Bay Area in Northern California that serves as a global center for high technology, innovation, venture capital, and social media. Major Silicon Valley cities are multi-cultural includes San Jose, Sunnyvale, Santa Clara, Redwood City, Mountain View, Palo Alto, Menlo Park and Cupertino [1]. There are 4 million people in Silicon Valley out of which around 6% people are Immigrants from India [2]. \n",
    "\n",
    "As we can see from the figures, there are around 2,40,000 people are Indians. They are scattered all over the major cities in Silicon Valley. When we think of it by investor, they expect to prefer a place where the Indians are more and Indian restaurants is less. If we think of the immigrants, they will choose the place which is near to their locality.\n",
    "\n",
    "When we consider all these problems, we can create a map and information chart where the Indian restaurants is less and each city is clustered according to the restaurants. We are going to analyze and report the best location where we can start an Indian restaurant. \n"
   ]
  },
  {
   "cell_type": "markdown",
   "metadata": {},
   "source": [
    "<h2>Data Description</h2>\n",
    "\n",
    "To consider the problem we can list the data as below:\n",
    "\n",
    "1.\tI used geopy API to get the latitude and longitude coordinates of the respected cities. \n",
    "2.\tI used Forsquare API to get the Indian restaurant venues around Silicon Valley.\n",
    "3.\tI used Google Map, ‘Search Nearby’ option to get the center coordinates of each restaurants [3].\n"
   ]
  },
  {
   "cell_type": "markdown",
   "metadata": {},
   "source": [
    "<h2>References</h2>\n",
    "\n",
    "1.\thttps://en.wikipedia.org/wiki/Silicon_Valley\n",
    "2.\thttps://www.latimes.com/business/la-fi-indians-in-tech-20150812-story.html\n",
    "3.\thttps://www.google.com/maps/place/Silicon+Valley,+CA,+USA/@37.402473,-122.3212967,10z/data=!3m1!4b1!4m5!3m4!1s0x808fb68ad0cfc739:0x7eb356b66bd4b50e!8m2!3d37.387474!4d-122.0575434\n"
   ]
  },
  {
   "cell_type": "code",
   "execution_count": null,
   "metadata": {},
   "outputs": [],
   "source": []
  }
 ],
 "metadata": {
  "kernelspec": {
   "display_name": "Python",
   "language": "python",
   "name": "conda-env-python-py"
  },
  "language_info": {
   "codemirror_mode": {
    "name": "ipython",
    "version": 3
   },
   "file_extension": ".py",
   "mimetype": "text/x-python",
   "name": "python",
   "nbconvert_exporter": "python",
   "pygments_lexer": "ipython3",
   "version": "3.6.10"
  }
 },
 "nbformat": 4,
 "nbformat_minor": 4
}
